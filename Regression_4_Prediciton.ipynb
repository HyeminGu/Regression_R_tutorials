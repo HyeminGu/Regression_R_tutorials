{
 "cells": [
  {
   "cell_type": "markdown",
   "metadata": {},
   "source": [
    "# Predicition (추정치 구하기)\n",
    "\n",
    "## Contents\n",
    "1. mtcars 데이터로 추정하기\n",
    "2. diamonds 데이터로 캐럿에 따른 가격 예측하기\n",
    "3. 예측값 신뢰구간으로 나타내기\n",
    "---\n",
    "## 추정치 구하기\n",
    "```predict()```함수를 이용한다. \n",
    "\n",
    "이용법: ```predict(lm 객체)```"
   ]
  },
  {
   "cell_type": "markdown",
   "metadata": {},
   "source": [
    "## 1. mtcars 데이터로 추정하기"
   ]
  },
  {
   "cell_type": "code",
   "execution_count": 2,
   "metadata": {
    "scrolled": true
   },
   "outputs": [
    {
     "data": {
      "text/html": [
       "<table>\n",
       "<caption>A data.frame: 5 × 11</caption>\n",
       "<thead>\n",
       "\t<tr><th></th><th scope=col>mpg</th><th scope=col>cyl</th><th scope=col>disp</th><th scope=col>hp</th><th scope=col>drat</th><th scope=col>wt</th><th scope=col>qsec</th><th scope=col>vs</th><th scope=col>am</th><th scope=col>gear</th><th scope=col>carb</th></tr>\n",
       "\t<tr><th></th><th scope=col>&lt;dbl&gt;</th><th scope=col>&lt;dbl&gt;</th><th scope=col>&lt;dbl&gt;</th><th scope=col>&lt;dbl&gt;</th><th scope=col>&lt;dbl&gt;</th><th scope=col>&lt;dbl&gt;</th><th scope=col>&lt;dbl&gt;</th><th scope=col>&lt;dbl&gt;</th><th scope=col>&lt;dbl&gt;</th><th scope=col>&lt;dbl&gt;</th><th scope=col>&lt;dbl&gt;</th></tr>\n",
       "</thead>\n",
       "<tbody>\n",
       "\t<tr><th scope=row>Mazda RX4</th><td>21.0</td><td>6</td><td>160</td><td>110</td><td>3.90</td><td>2.620</td><td>16.46</td><td>0</td><td>1</td><td>4</td><td>4</td></tr>\n",
       "\t<tr><th scope=row>Mazda RX4 Wag</th><td>21.0</td><td>6</td><td>160</td><td>110</td><td>3.90</td><td>2.875</td><td>17.02</td><td>0</td><td>1</td><td>4</td><td>4</td></tr>\n",
       "\t<tr><th scope=row>Datsun 710</th><td>22.8</td><td>4</td><td>108</td><td> 93</td><td>3.85</td><td>2.320</td><td>18.61</td><td>1</td><td>1</td><td>4</td><td>1</td></tr>\n",
       "\t<tr><th scope=row>Hornet 4 Drive</th><td>21.4</td><td>6</td><td>258</td><td>110</td><td>3.08</td><td>3.215</td><td>19.44</td><td>1</td><td>0</td><td>3</td><td>1</td></tr>\n",
       "\t<tr><th scope=row>Hornet Sportabout</th><td>18.7</td><td>8</td><td>360</td><td>175</td><td>3.15</td><td>3.440</td><td>17.02</td><td>0</td><td>0</td><td>3</td><td>2</td></tr>\n",
       "</tbody>\n",
       "</table>\n"
      ],
      "text/latex": [
       "A data.frame: 5 × 11\n",
       "\\begin{tabular}{r|lllllllllll}\n",
       "  & mpg & cyl & disp & hp & drat & wt & qsec & vs & am & gear & carb\\\\\n",
       "  & <dbl> & <dbl> & <dbl> & <dbl> & <dbl> & <dbl> & <dbl> & <dbl> & <dbl> & <dbl> & <dbl>\\\\\n",
       "\\hline\n",
       "\tMazda RX4 & 21.0 & 6 & 160 & 110 & 3.90 & 2.620 & 16.46 & 0 & 1 & 4 & 4\\\\\n",
       "\tMazda RX4 Wag & 21.0 & 6 & 160 & 110 & 3.90 & 2.875 & 17.02 & 0 & 1 & 4 & 4\\\\\n",
       "\tDatsun 710 & 22.8 & 4 & 108 &  93 & 3.85 & 2.320 & 18.61 & 1 & 1 & 4 & 1\\\\\n",
       "\tHornet 4 Drive & 21.4 & 6 & 258 & 110 & 3.08 & 3.215 & 19.44 & 1 & 0 & 3 & 1\\\\\n",
       "\tHornet Sportabout & 18.7 & 8 & 360 & 175 & 3.15 & 3.440 & 17.02 & 0 & 0 & 3 & 2\\\\\n",
       "\\end{tabular}\n"
      ],
      "text/markdown": [
       "\n",
       "A data.frame: 5 × 11\n",
       "\n",
       "| <!--/--> | mpg &lt;dbl&gt; | cyl &lt;dbl&gt; | disp &lt;dbl&gt; | hp &lt;dbl&gt; | drat &lt;dbl&gt; | wt &lt;dbl&gt; | qsec &lt;dbl&gt; | vs &lt;dbl&gt; | am &lt;dbl&gt; | gear &lt;dbl&gt; | carb &lt;dbl&gt; |\n",
       "|---|---|---|---|---|---|---|---|---|---|---|---|\n",
       "| Mazda RX4 | 21.0 | 6 | 160 | 110 | 3.90 | 2.620 | 16.46 | 0 | 1 | 4 | 4 |\n",
       "| Mazda RX4 Wag | 21.0 | 6 | 160 | 110 | 3.90 | 2.875 | 17.02 | 0 | 1 | 4 | 4 |\n",
       "| Datsun 710 | 22.8 | 4 | 108 |  93 | 3.85 | 2.320 | 18.61 | 1 | 1 | 4 | 1 |\n",
       "| Hornet 4 Drive | 21.4 | 6 | 258 | 110 | 3.08 | 3.215 | 19.44 | 1 | 0 | 3 | 1 |\n",
       "| Hornet Sportabout | 18.7 | 8 | 360 | 175 | 3.15 | 3.440 | 17.02 | 0 | 0 | 3 | 2 |\n",
       "\n"
      ],
      "text/plain": [
       "                  mpg  cyl disp hp  drat wt    qsec  vs am gear carb\n",
       "Mazda RX4         21.0 6   160  110 3.90 2.620 16.46 0  1  4    4   \n",
       "Mazda RX4 Wag     21.0 6   160  110 3.90 2.875 17.02 0  1  4    4   \n",
       "Datsun 710        22.8 4   108   93 3.85 2.320 18.61 1  1  4    1   \n",
       "Hornet 4 Drive    21.4 6   258  110 3.08 3.215 19.44 1  0  3    1   \n",
       "Hornet Sportabout 18.7 8   360  175 3.15 3.440 17.02 0  0  3    2   "
      ]
     },
     "metadata": {},
     "output_type": "display_data"
    },
    {
     "name": "stdout",
     "output_type": "stream",
     "text": [
      "'data.frame':\t32 obs. of  11 variables:\n",
      " $ mpg : num  21 21 22.8 21.4 18.7 18.1 14.3 24.4 22.8 19.2 ...\n",
      " $ cyl : num  6 6 4 6 8 6 8 4 4 6 ...\n",
      " $ disp: num  160 160 108 258 360 ...\n",
      " $ hp  : num  110 110 93 110 175 105 245 62 95 123 ...\n",
      " $ drat: num  3.9 3.9 3.85 3.08 3.15 2.76 3.21 3.69 3.92 3.92 ...\n",
      " $ wt  : num  2.62 2.88 2.32 3.21 3.44 ...\n",
      " $ qsec: num  16.5 17 18.6 19.4 17 ...\n",
      " $ vs  : num  0 0 1 1 0 1 0 1 1 1 ...\n",
      " $ am  : num  1 1 1 0 0 0 0 0 0 0 ...\n",
      " $ gear: num  4 4 4 3 3 3 3 4 4 4 ...\n",
      " $ carb: num  4 4 1 1 2 1 4 2 2 4 ...\n"
     ]
    }
   ],
   "source": [
    "# Step 1: 데이터 불러오기\n",
    "DF <- mtcars\n",
    "\n",
    "# Step 2: 데이터 구조 살펴보기\n",
    "head(DF, 5)\n",
    "str(DF)"
   ]
  },
  {
   "cell_type": "markdown",
   "metadata": {},
   "source": [
    "* 종속변수: mpg (연비)\n",
    "* 독립변수: wt (차체무게)"
   ]
  },
  {
   "cell_type": "code",
   "execution_count": 3,
   "metadata": {
    "scrolled": true
   },
   "outputs": [
    {
     "data": {
      "text/plain": [
       "\n",
       "Call:\n",
       "lm(formula = mpg ~ wt, data = DF)\n",
       "\n",
       "Coefficients:\n",
       "(Intercept)           wt  \n",
       "     37.285       -5.344  \n"
      ]
     },
     "metadata": {},
     "output_type": "display_data"
    }
   ],
   "source": [
    "# Step 3: 회귀모델 구하기\n",
    "Lm <- lm(mpg ~ wt, data=DF)\n",
    "Lm"
   ]
  },
  {
   "cell_type": "code",
   "execution_count": 4,
   "metadata": {
    "scrolled": true
   },
   "outputs": [
    {
     "data": {
      "text/plain": [
       "\n",
       "Call:\n",
       "lm(formula = mpg ~ wt, data = DF)\n",
       "\n",
       "Residuals:\n",
       "    Min      1Q  Median      3Q     Max \n",
       "-4.5432 -2.3647 -0.1252  1.4096  6.8727 \n",
       "\n",
       "Coefficients:\n",
       "            Estimate Std. Error t value Pr(>|t|)    \n",
       "(Intercept)  37.2851     1.8776  19.858  < 2e-16 ***\n",
       "wt           -5.3445     0.5591  -9.559 1.29e-10 ***\n",
       "---\n",
       "Signif. codes:  0 '***' 0.001 '**' 0.01 '*' 0.05 '.' 0.1 ' ' 1\n",
       "\n",
       "Residual standard error: 3.046 on 30 degrees of freedom\n",
       "Multiple R-squared:  0.7528,\tAdjusted R-squared:  0.7446 \n",
       "F-statistic: 91.38 on 1 and 30 DF,  p-value: 1.294e-10\n"
      ]
     },
     "metadata": {},
     "output_type": "display_data"
    }
   ],
   "source": [
    "# Step 4: 회귀모델 검증하기\n",
    "summary(Lm)"
   ]
  },
  {
   "cell_type": "markdown",
   "metadata": {},
   "source": [
    "$R^2$값도 양호하고 회귀계수도 유의하다. 이제 ```predict()```함수를 이용해 추정치를 구해본다."
   ]
  },
  {
   "cell_type": "code",
   "execution_count": 6,
   "metadata": {},
   "outputs": [
    {
     "data": {
      "text/html": [
       "<style>\n",
       ".dl-inline {width: auto; margin:0; padding: 0}\n",
       ".dl-inline>dt, .dl-inline>dd {float: none; width: auto; display: inline-block}\n",
       ".dl-inline>dt::after {content: \":\\0020\"; padding-right: .5ex}\n",
       ".dl-inline>dt:not(:first-of-type) {padding-left: .5ex}\n",
       "</style><dl class=dl-inline><dt>Mazda RX4</dt><dd>23.2826106468086</dd><dt>Mazda RX4 Wag</dt><dd>21.9197703957643</dd><dt>Datsun 710</dt><dd>24.8859521186254</dd><dt>Hornet 4 Drive</dt><dd>20.1026500610386</dd><dt>Hornet Sportabout</dt><dd>18.900143957176</dd><dt>Valiant</dt><dd>18.7932545257216</dd><dt>Duster 360</dt><dd>18.2053626527221</dd><dt>Merc 240D</dt><dd>20.2362618503567</dd><dt>Merc 230</dt><dd>20.4500407132656</dd><dt>Merc 280</dt><dd>18.900143957176</dd><dt>Merc 280C</dt><dd>18.900143957176</dd><dt>Merc 450SE</dt><dd>15.5331268663607</dd><dt>Merc 450SL</dt><dd>17.3502472010864</dd><dt>Merc 450SLC</dt><dd>17.0830236224503</dd><dt>Cadillac Fleetwood</dt><dd>9.22665041054798</dd><dt>Lincoln Continental</dt><dd>8.29671235689423</dd><dt>Chrysler Imperial</dt><dd>8.71892561113932</dd><dt>Fiat 128</dt><dd>25.5272887073521</dd><dt>Honda Civic</dt><dd>28.6538045773949</dd><dt>Toyota Corolla</dt><dd>27.4780208313959</dd><dt>Toyota Corona</dt><dd>24.1110037405806</dd><dt>Dodge Challenger</dt><dd>18.4725862313582</dd><dt>AMC Javelin</dt><dd>18.9268663150396</dd><dt>Camaro Z28</dt><dd>16.7623553280869</dd><dt>Pontiac Firebird</dt><dd>16.7356329702233</dd><dt>Fiat X1-9</dt><dd>26.9435736741236</dd><dt>Porsche 914-2</dt><dd>25.8479570017155</dd><dt>Lotus Europa</dt><dd>29.1989406778126</dd><dt>Ford Pantera L</dt><dd>20.3431512818111</dd><dt>Ferrari Dino</dt><dd>22.4809399109002</dd><dt>Maserati Bora</dt><dd>18.2053626527221</dd><dt>Volvo 142E</dt><dd>22.427495195173</dd></dl>\n"
      ],
      "text/latex": [
       "\\begin{description*}\n",
       "\\item[Mazda RX4] 23.2826106468086\n",
       "\\item[Mazda RX4 Wag] 21.9197703957643\n",
       "\\item[Datsun 710] 24.8859521186254\n",
       "\\item[Hornet 4 Drive] 20.1026500610386\n",
       "\\item[Hornet Sportabout] 18.900143957176\n",
       "\\item[Valiant] 18.7932545257216\n",
       "\\item[Duster 360] 18.2053626527221\n",
       "\\item[Merc 240D] 20.2362618503567\n",
       "\\item[Merc 230] 20.4500407132656\n",
       "\\item[Merc 280] 18.900143957176\n",
       "\\item[Merc 280C] 18.900143957176\n",
       "\\item[Merc 450SE] 15.5331268663607\n",
       "\\item[Merc 450SL] 17.3502472010864\n",
       "\\item[Merc 450SLC] 17.0830236224503\n",
       "\\item[Cadillac Fleetwood] 9.22665041054798\n",
       "\\item[Lincoln Continental] 8.29671235689423\n",
       "\\item[Chrysler Imperial] 8.71892561113932\n",
       "\\item[Fiat 128] 25.5272887073521\n",
       "\\item[Honda Civic] 28.6538045773949\n",
       "\\item[Toyota Corolla] 27.4780208313959\n",
       "\\item[Toyota Corona] 24.1110037405806\n",
       "\\item[Dodge Challenger] 18.4725862313582\n",
       "\\item[AMC Javelin] 18.9268663150396\n",
       "\\item[Camaro Z28] 16.7623553280869\n",
       "\\item[Pontiac Firebird] 16.7356329702233\n",
       "\\item[Fiat X1-9] 26.9435736741236\n",
       "\\item[Porsche 914-2] 25.8479570017155\n",
       "\\item[Lotus Europa] 29.1989406778126\n",
       "\\item[Ford Pantera L] 20.3431512818111\n",
       "\\item[Ferrari Dino] 22.4809399109002\n",
       "\\item[Maserati Bora] 18.2053626527221\n",
       "\\item[Volvo 142E] 22.427495195173\n",
       "\\end{description*}\n"
      ],
      "text/markdown": [
       "Mazda RX4\n",
       ":   23.2826106468086Mazda RX4 Wag\n",
       ":   21.9197703957643Datsun 710\n",
       ":   24.8859521186254Hornet 4 Drive\n",
       ":   20.1026500610386Hornet Sportabout\n",
       ":   18.900143957176Valiant\n",
       ":   18.7932545257216Duster 360\n",
       ":   18.2053626527221Merc 240D\n",
       ":   20.2362618503567Merc 230\n",
       ":   20.4500407132656Merc 280\n",
       ":   18.900143957176Merc 280C\n",
       ":   18.900143957176Merc 450SE\n",
       ":   15.5331268663607Merc 450SL\n",
       ":   17.3502472010864Merc 450SLC\n",
       ":   17.0830236224503Cadillac Fleetwood\n",
       ":   9.22665041054798Lincoln Continental\n",
       ":   8.29671235689423Chrysler Imperial\n",
       ":   8.71892561113932Fiat 128\n",
       ":   25.5272887073521Honda Civic\n",
       ":   28.6538045773949Toyota Corolla\n",
       ":   27.4780208313959Toyota Corona\n",
       ":   24.1110037405806Dodge Challenger\n",
       ":   18.4725862313582AMC Javelin\n",
       ":   18.9268663150396Camaro Z28\n",
       ":   16.7623553280869Pontiac Firebird\n",
       ":   16.7356329702233Fiat X1-9\n",
       ":   26.9435736741236Porsche 914-2\n",
       ":   25.8479570017155Lotus Europa\n",
       ":   29.1989406778126Ford Pantera L\n",
       ":   20.3431512818111Ferrari Dino\n",
       ":   22.4809399109002Maserati Bora\n",
       ":   18.2053626527221Volvo 142E\n",
       ":   22.427495195173\n",
       "\n"
      ],
      "text/plain": [
       "          Mazda RX4       Mazda RX4 Wag          Datsun 710      Hornet 4 Drive \n",
       "          23.282611           21.919770           24.885952           20.102650 \n",
       "  Hornet Sportabout             Valiant          Duster 360           Merc 240D \n",
       "          18.900144           18.793255           18.205363           20.236262 \n",
       "           Merc 230            Merc 280           Merc 280C          Merc 450SE \n",
       "          20.450041           18.900144           18.900144           15.533127 \n",
       "         Merc 450SL         Merc 450SLC  Cadillac Fleetwood Lincoln Continental \n",
       "          17.350247           17.083024            9.226650            8.296712 \n",
       "  Chrysler Imperial            Fiat 128         Honda Civic      Toyota Corolla \n",
       "           8.718926           25.527289           28.653805           27.478021 \n",
       "      Toyota Corona    Dodge Challenger         AMC Javelin          Camaro Z28 \n",
       "          24.111004           18.472586           18.926866           16.762355 \n",
       "   Pontiac Firebird           Fiat X1-9       Porsche 914-2        Lotus Europa \n",
       "          16.735633           26.943574           25.847957           29.198941 \n",
       "     Ford Pantera L        Ferrari Dino       Maserati Bora          Volvo 142E \n",
       "          20.343151           22.480940           18.205363           22.427495 "
      ]
     },
     "metadata": {},
     "output_type": "display_data"
    }
   ],
   "source": [
    "# Step 5: 회귀모델에 값을 넣어 추정치를 구한다.\n",
    "b <- predict(Lm)\n",
    "b"
   ]
  },
  {
   "cell_type": "markdown",
   "metadata": {},
   "source": [
    "각 자동차마다의 추정치가 나타난다. 먼저 자동차 한 개만 실제값과 추정치를 비교해보자."
   ]
  },
  {
   "cell_type": "code",
   "execution_count": 7,
   "metadata": {},
   "outputs": [
    {
     "data": {
      "text/html": [
       "21"
      ],
      "text/latex": [
       "21"
      ],
      "text/markdown": [
       "21"
      ],
      "text/plain": [
       "[1] 21"
      ]
     },
     "metadata": {},
     "output_type": "display_data"
    },
    {
     "data": {
      "text/html": [
       "<strong>Mazda RX4:</strong> 23.2826106468086"
      ],
      "text/latex": [
       "\\textbf{Mazda RX4:} 23.2826106468086"
      ],
      "text/markdown": [
       "**Mazda RX4:** 23.2826106468086"
      ],
      "text/plain": [
       "Mazda RX4 \n",
       " 23.28261 "
      ]
     },
     "metadata": {},
     "output_type": "display_data"
    }
   ],
   "source": [
    "# Step 6: 한 instance 비교\n",
    "DF$mpg[1]\n",
    "b[1]"
   ]
  },
  {
   "cell_type": "code",
   "execution_count": 8,
   "metadata": {
    "scrolled": true
   },
   "outputs": [
    {
     "data": {
      "text/html": [
       "<table>\n",
       "<caption>A data.frame: 32 × 2</caption>\n",
       "<thead>\n",
       "\t<tr><th></th><th scope=col>mpg</th><th scope=col>fittedMPG</th></tr>\n",
       "\t<tr><th></th><th scope=col>&lt;dbl&gt;</th><th scope=col>&lt;dbl&gt;</th></tr>\n",
       "</thead>\n",
       "<tbody>\n",
       "\t<tr><th scope=row>Mazda RX4</th><td>21.0</td><td>23.282611</td></tr>\n",
       "\t<tr><th scope=row>Mazda RX4 Wag</th><td>21.0</td><td>21.919770</td></tr>\n",
       "\t<tr><th scope=row>Datsun 710</th><td>22.8</td><td>24.885952</td></tr>\n",
       "\t<tr><th scope=row>Hornet 4 Drive</th><td>21.4</td><td>20.102650</td></tr>\n",
       "\t<tr><th scope=row>Hornet Sportabout</th><td>18.7</td><td>18.900144</td></tr>\n",
       "\t<tr><th scope=row>Valiant</th><td>18.1</td><td>18.793255</td></tr>\n",
       "\t<tr><th scope=row>Duster 360</th><td>14.3</td><td>18.205363</td></tr>\n",
       "\t<tr><th scope=row>Merc 240D</th><td>24.4</td><td>20.236262</td></tr>\n",
       "\t<tr><th scope=row>Merc 230</th><td>22.8</td><td>20.450041</td></tr>\n",
       "\t<tr><th scope=row>Merc 280</th><td>19.2</td><td>18.900144</td></tr>\n",
       "\t<tr><th scope=row>Merc 280C</th><td>17.8</td><td>18.900144</td></tr>\n",
       "\t<tr><th scope=row>Merc 450SE</th><td>16.4</td><td>15.533127</td></tr>\n",
       "\t<tr><th scope=row>Merc 450SL</th><td>17.3</td><td>17.350247</td></tr>\n",
       "\t<tr><th scope=row>Merc 450SLC</th><td>15.2</td><td>17.083024</td></tr>\n",
       "\t<tr><th scope=row>Cadillac Fleetwood</th><td>10.4</td><td> 9.226650</td></tr>\n",
       "\t<tr><th scope=row>Lincoln Continental</th><td>10.4</td><td> 8.296712</td></tr>\n",
       "\t<tr><th scope=row>Chrysler Imperial</th><td>14.7</td><td> 8.718926</td></tr>\n",
       "\t<tr><th scope=row>Fiat 128</th><td>32.4</td><td>25.527289</td></tr>\n",
       "\t<tr><th scope=row>Honda Civic</th><td>30.4</td><td>28.653805</td></tr>\n",
       "\t<tr><th scope=row>Toyota Corolla</th><td>33.9</td><td>27.478021</td></tr>\n",
       "\t<tr><th scope=row>Toyota Corona</th><td>21.5</td><td>24.111004</td></tr>\n",
       "\t<tr><th scope=row>Dodge Challenger</th><td>15.5</td><td>18.472586</td></tr>\n",
       "\t<tr><th scope=row>AMC Javelin</th><td>15.2</td><td>18.926866</td></tr>\n",
       "\t<tr><th scope=row>Camaro Z28</th><td>13.3</td><td>16.762355</td></tr>\n",
       "\t<tr><th scope=row>Pontiac Firebird</th><td>19.2</td><td>16.735633</td></tr>\n",
       "\t<tr><th scope=row>Fiat X1-9</th><td>27.3</td><td>26.943574</td></tr>\n",
       "\t<tr><th scope=row>Porsche 914-2</th><td>26.0</td><td>25.847957</td></tr>\n",
       "\t<tr><th scope=row>Lotus Europa</th><td>30.4</td><td>29.198941</td></tr>\n",
       "\t<tr><th scope=row>Ford Pantera L</th><td>15.8</td><td>20.343151</td></tr>\n",
       "\t<tr><th scope=row>Ferrari Dino</th><td>19.7</td><td>22.480940</td></tr>\n",
       "\t<tr><th scope=row>Maserati Bora</th><td>15.0</td><td>18.205363</td></tr>\n",
       "\t<tr><th scope=row>Volvo 142E</th><td>21.4</td><td>22.427495</td></tr>\n",
       "</tbody>\n",
       "</table>\n"
      ],
      "text/latex": [
       "A data.frame: 32 × 2\n",
       "\\begin{tabular}{r|ll}\n",
       "  & mpg & fittedMPG\\\\\n",
       "  & <dbl> & <dbl>\\\\\n",
       "\\hline\n",
       "\tMazda RX4 & 21.0 & 23.282611\\\\\n",
       "\tMazda RX4 Wag & 21.0 & 21.919770\\\\\n",
       "\tDatsun 710 & 22.8 & 24.885952\\\\\n",
       "\tHornet 4 Drive & 21.4 & 20.102650\\\\\n",
       "\tHornet Sportabout & 18.7 & 18.900144\\\\\n",
       "\tValiant & 18.1 & 18.793255\\\\\n",
       "\tDuster 360 & 14.3 & 18.205363\\\\\n",
       "\tMerc 240D & 24.4 & 20.236262\\\\\n",
       "\tMerc 230 & 22.8 & 20.450041\\\\\n",
       "\tMerc 280 & 19.2 & 18.900144\\\\\n",
       "\tMerc 280C & 17.8 & 18.900144\\\\\n",
       "\tMerc 450SE & 16.4 & 15.533127\\\\\n",
       "\tMerc 450SL & 17.3 & 17.350247\\\\\n",
       "\tMerc 450SLC & 15.2 & 17.083024\\\\\n",
       "\tCadillac Fleetwood & 10.4 &  9.226650\\\\\n",
       "\tLincoln Continental & 10.4 &  8.296712\\\\\n",
       "\tChrysler Imperial & 14.7 &  8.718926\\\\\n",
       "\tFiat 128 & 32.4 & 25.527289\\\\\n",
       "\tHonda Civic & 30.4 & 28.653805\\\\\n",
       "\tToyota Corolla & 33.9 & 27.478021\\\\\n",
       "\tToyota Corona & 21.5 & 24.111004\\\\\n",
       "\tDodge Challenger & 15.5 & 18.472586\\\\\n",
       "\tAMC Javelin & 15.2 & 18.926866\\\\\n",
       "\tCamaro Z28 & 13.3 & 16.762355\\\\\n",
       "\tPontiac Firebird & 19.2 & 16.735633\\\\\n",
       "\tFiat X1-9 & 27.3 & 26.943574\\\\\n",
       "\tPorsche 914-2 & 26.0 & 25.847957\\\\\n",
       "\tLotus Europa & 30.4 & 29.198941\\\\\n",
       "\tFord Pantera L & 15.8 & 20.343151\\\\\n",
       "\tFerrari Dino & 19.7 & 22.480940\\\\\n",
       "\tMaserati Bora & 15.0 & 18.205363\\\\\n",
       "\tVolvo 142E & 21.4 & 22.427495\\\\\n",
       "\\end{tabular}\n"
      ],
      "text/markdown": [
       "\n",
       "A data.frame: 32 × 2\n",
       "\n",
       "| <!--/--> | mpg &lt;dbl&gt; | fittedMPG &lt;dbl&gt; |\n",
       "|---|---|---|\n",
       "| Mazda RX4 | 21.0 | 23.282611 |\n",
       "| Mazda RX4 Wag | 21.0 | 21.919770 |\n",
       "| Datsun 710 | 22.8 | 24.885952 |\n",
       "| Hornet 4 Drive | 21.4 | 20.102650 |\n",
       "| Hornet Sportabout | 18.7 | 18.900144 |\n",
       "| Valiant | 18.1 | 18.793255 |\n",
       "| Duster 360 | 14.3 | 18.205363 |\n",
       "| Merc 240D | 24.4 | 20.236262 |\n",
       "| Merc 230 | 22.8 | 20.450041 |\n",
       "| Merc 280 | 19.2 | 18.900144 |\n",
       "| Merc 280C | 17.8 | 18.900144 |\n",
       "| Merc 450SE | 16.4 | 15.533127 |\n",
       "| Merc 450SL | 17.3 | 17.350247 |\n",
       "| Merc 450SLC | 15.2 | 17.083024 |\n",
       "| Cadillac Fleetwood | 10.4 |  9.226650 |\n",
       "| Lincoln Continental | 10.4 |  8.296712 |\n",
       "| Chrysler Imperial | 14.7 |  8.718926 |\n",
       "| Fiat 128 | 32.4 | 25.527289 |\n",
       "| Honda Civic | 30.4 | 28.653805 |\n",
       "| Toyota Corolla | 33.9 | 27.478021 |\n",
       "| Toyota Corona | 21.5 | 24.111004 |\n",
       "| Dodge Challenger | 15.5 | 18.472586 |\n",
       "| AMC Javelin | 15.2 | 18.926866 |\n",
       "| Camaro Z28 | 13.3 | 16.762355 |\n",
       "| Pontiac Firebird | 19.2 | 16.735633 |\n",
       "| Fiat X1-9 | 27.3 | 26.943574 |\n",
       "| Porsche 914-2 | 26.0 | 25.847957 |\n",
       "| Lotus Europa | 30.4 | 29.198941 |\n",
       "| Ford Pantera L | 15.8 | 20.343151 |\n",
       "| Ferrari Dino | 19.7 | 22.480940 |\n",
       "| Maserati Bora | 15.0 | 18.205363 |\n",
       "| Volvo 142E | 21.4 | 22.427495 |\n",
       "\n"
      ],
      "text/plain": [
       "                    mpg  fittedMPG\n",
       "Mazda RX4           21.0 23.282611\n",
       "Mazda RX4 Wag       21.0 21.919770\n",
       "Datsun 710          22.8 24.885952\n",
       "Hornet 4 Drive      21.4 20.102650\n",
       "Hornet Sportabout   18.7 18.900144\n",
       "Valiant             18.1 18.793255\n",
       "Duster 360          14.3 18.205363\n",
       "Merc 240D           24.4 20.236262\n",
       "Merc 230            22.8 20.450041\n",
       "Merc 280            19.2 18.900144\n",
       "Merc 280C           17.8 18.900144\n",
       "Merc 450SE          16.4 15.533127\n",
       "Merc 450SL          17.3 17.350247\n",
       "Merc 450SLC         15.2 17.083024\n",
       "Cadillac Fleetwood  10.4  9.226650\n",
       "Lincoln Continental 10.4  8.296712\n",
       "Chrysler Imperial   14.7  8.718926\n",
       "Fiat 128            32.4 25.527289\n",
       "Honda Civic         30.4 28.653805\n",
       "Toyota Corolla      33.9 27.478021\n",
       "Toyota Corona       21.5 24.111004\n",
       "Dodge Challenger    15.5 18.472586\n",
       "AMC Javelin         15.2 18.926866\n",
       "Camaro Z28          13.3 16.762355\n",
       "Pontiac Firebird    19.2 16.735633\n",
       "Fiat X1-9           27.3 26.943574\n",
       "Porsche 914-2       26.0 25.847957\n",
       "Lotus Europa        30.4 29.198941\n",
       "Ford Pantera L      15.8 20.343151\n",
       "Ferrari Dino        19.7 22.480940\n",
       "Maserati Bora       15.0 18.205363\n",
       "Volvo 142E          21.4 22.427495"
      ]
     },
     "metadata": {},
     "output_type": "display_data"
    }
   ],
   "source": [
    "# Step 7: 데이터프레임에 넣어 비교\n",
    "Com <- data.frame(mpg=DF$mpg, fittedMPG=b)\n",
    "Com"
   ]
  },
  {
   "cell_type": "markdown",
   "metadata": {},
   "source": [
    "대부분의 값이 비슷하므로 이제 새로운 데이터를 넣어 예측해본다.\n",
    "\n",
    "차체무게가 6톤일 때 연비가 몇이 될지 추정해보자."
   ]
  },
  {
   "cell_type": "code",
   "execution_count": 9,
   "metadata": {},
   "outputs": [
    {
     "data": {
      "text/html": [
       "<strong>1:</strong> 5.21829673100597"
      ],
      "text/latex": [
       "\\textbf{1:} 5.21829673100597"
      ],
      "text/markdown": [
       "**1:** 5.21829673100597"
      ],
      "text/plain": [
       "       1 \n",
       "5.218297 "
      ]
     },
     "metadata": {},
     "output_type": "display_data"
    }
   ],
   "source": [
    "# Step 8 : 새로운 데이터 만들기\n",
    "NewCar <- data.frame(wt=6)\n",
    "\n",
    "# Step 9: 예측값 구하기\n",
    "predict(Lm, newdata=NewCar)"
   ]
  },
  {
   "cell_type": "markdown",
   "metadata": {},
   "source": [
    "## 2. diamonds 데이터로 캐럿에 따른 가격 예측하기\n",
    "diamonds는 R 기본 내장 데이터셋이다 **ggplot2** library에 내장되어있다. 53940개의 다이아몬드를 조사한 자료이다."
   ]
  },
  {
   "cell_type": "code",
   "execution_count": 6,
   "metadata": {
    "scrolled": true
   },
   "outputs": [
    {
     "data": {
      "text/html": [
       "<table>\n",
       "<caption>A tibble: 5 × 10</caption>\n",
       "<thead>\n",
       "\t<tr><th scope=col>carat</th><th scope=col>cut</th><th scope=col>color</th><th scope=col>clarity</th><th scope=col>depth</th><th scope=col>table</th><th scope=col>price</th><th scope=col>x</th><th scope=col>y</th><th scope=col>z</th></tr>\n",
       "\t<tr><th scope=col>&lt;dbl&gt;</th><th scope=col>&lt;ord&gt;</th><th scope=col>&lt;ord&gt;</th><th scope=col>&lt;ord&gt;</th><th scope=col>&lt;dbl&gt;</th><th scope=col>&lt;dbl&gt;</th><th scope=col>&lt;int&gt;</th><th scope=col>&lt;dbl&gt;</th><th scope=col>&lt;dbl&gt;</th><th scope=col>&lt;dbl&gt;</th></tr>\n",
       "</thead>\n",
       "<tbody>\n",
       "\t<tr><td>0.23</td><td>Ideal  </td><td>E</td><td>SI2</td><td>61.5</td><td>55</td><td>326</td><td>3.95</td><td>3.98</td><td>2.43</td></tr>\n",
       "\t<tr><td>0.21</td><td>Premium</td><td>E</td><td>SI1</td><td>59.8</td><td>61</td><td>326</td><td>3.89</td><td>3.84</td><td>2.31</td></tr>\n",
       "\t<tr><td>0.23</td><td>Good   </td><td>E</td><td>VS1</td><td>56.9</td><td>65</td><td>327</td><td>4.05</td><td>4.07</td><td>2.31</td></tr>\n",
       "\t<tr><td>0.29</td><td>Premium</td><td>I</td><td>VS2</td><td>62.4</td><td>58</td><td>334</td><td>4.20</td><td>4.23</td><td>2.63</td></tr>\n",
       "\t<tr><td>0.31</td><td>Good   </td><td>J</td><td>SI2</td><td>63.3</td><td>58</td><td>335</td><td>4.34</td><td>4.35</td><td>2.75</td></tr>\n",
       "</tbody>\n",
       "</table>\n"
      ],
      "text/latex": [
       "A tibble: 5 × 10\n",
       "\\begin{tabular}{llllllllll}\n",
       " carat & cut & color & clarity & depth & table & price & x & y & z\\\\\n",
       " <dbl> & <ord> & <ord> & <ord> & <dbl> & <dbl> & <int> & <dbl> & <dbl> & <dbl>\\\\\n",
       "\\hline\n",
       "\t 0.23 & Ideal   & E & SI2 & 61.5 & 55 & 326 & 3.95 & 3.98 & 2.43\\\\\n",
       "\t 0.21 & Premium & E & SI1 & 59.8 & 61 & 326 & 3.89 & 3.84 & 2.31\\\\\n",
       "\t 0.23 & Good    & E & VS1 & 56.9 & 65 & 327 & 4.05 & 4.07 & 2.31\\\\\n",
       "\t 0.29 & Premium & I & VS2 & 62.4 & 58 & 334 & 4.20 & 4.23 & 2.63\\\\\n",
       "\t 0.31 & Good    & J & SI2 & 63.3 & 58 & 335 & 4.34 & 4.35 & 2.75\\\\\n",
       "\\end{tabular}\n"
      ],
      "text/markdown": [
       "\n",
       "A tibble: 5 × 10\n",
       "\n",
       "| carat &lt;dbl&gt; | cut &lt;ord&gt; | color &lt;ord&gt; | clarity &lt;ord&gt; | depth &lt;dbl&gt; | table &lt;dbl&gt; | price &lt;int&gt; | x &lt;dbl&gt; | y &lt;dbl&gt; | z &lt;dbl&gt; |\n",
       "|---|---|---|---|---|---|---|---|---|---|\n",
       "| 0.23 | Ideal   | E | SI2 | 61.5 | 55 | 326 | 3.95 | 3.98 | 2.43 |\n",
       "| 0.21 | Premium | E | SI1 | 59.8 | 61 | 326 | 3.89 | 3.84 | 2.31 |\n",
       "| 0.23 | Good    | E | VS1 | 56.9 | 65 | 327 | 4.05 | 4.07 | 2.31 |\n",
       "| 0.29 | Premium | I | VS2 | 62.4 | 58 | 334 | 4.20 | 4.23 | 2.63 |\n",
       "| 0.31 | Good    | J | SI2 | 63.3 | 58 | 335 | 4.34 | 4.35 | 2.75 |\n",
       "\n"
      ],
      "text/plain": [
       "  carat cut     color clarity depth table price x    y    z   \n",
       "1 0.23  Ideal   E     SI2     61.5  55    326   3.95 3.98 2.43\n",
       "2 0.21  Premium E     SI1     59.8  61    326   3.89 3.84 2.31\n",
       "3 0.23  Good    E     VS1     56.9  65    327   4.05 4.07 2.31\n",
       "4 0.29  Premium I     VS2     62.4  58    334   4.20 4.23 2.63\n",
       "5 0.31  Good    J     SI2     63.3  58    335   4.34 4.35 2.75"
      ]
     },
     "metadata": {},
     "output_type": "display_data"
    },
    {
     "name": "stdout",
     "output_type": "stream",
     "text": [
      "tibble [53,940 x 10] (S3: tbl_df/tbl/data.frame)\n",
      " $ carat  : num [1:53940] 0.23 0.21 0.23 0.29 0.31 0.24 0.24 0.26 0.22 0.23 ...\n",
      " $ cut    : Ord.factor w/ 5 levels \"Fair\"<\"Good\"<..: 5 4 2 4 2 3 3 3 1 3 ...\n",
      " $ color  : Ord.factor w/ 7 levels \"D\"<\"E\"<\"F\"<\"G\"<..: 2 2 2 6 7 7 6 5 2 5 ...\n",
      " $ clarity: Ord.factor w/ 8 levels \"I1\"<\"SI2\"<\"SI1\"<..: 2 3 5 4 2 6 7 3 4 5 ...\n",
      " $ depth  : num [1:53940] 61.5 59.8 56.9 62.4 63.3 62.8 62.3 61.9 65.1 59.4 ...\n",
      " $ table  : num [1:53940] 55 61 65 58 58 57 57 55 61 61 ...\n",
      " $ price  : int [1:53940] 326 326 327 334 335 336 336 337 337 338 ...\n",
      " $ x      : num [1:53940] 3.95 3.89 4.05 4.2 4.34 3.94 3.95 4.07 3.87 4 ...\n",
      " $ y      : num [1:53940] 3.98 3.84 4.07 4.23 4.35 3.96 3.98 4.11 3.78 4.05 ...\n",
      " $ z      : num [1:53940] 2.43 2.31 2.31 2.63 2.75 2.48 2.47 2.53 2.49 2.39 ...\n"
     ]
    }
   ],
   "source": [
    "# Step 1: 데이터셋 불러오기\n",
    "#install.packages('ggplot2')\n",
    "library(ggplot2)\n",
    "DF <- diamonds\n",
    "\n",
    "# Step 2: 구조 살펴보기\n",
    "head(DF, 5)\n",
    "str(DF)"
   ]
  },
  {
   "cell_type": "markdown",
   "metadata": {},
   "source": [
    "* 종속변수: 가격 (price)\n",
    "* 독립변수: 캐럿 (carat)"
   ]
  },
  {
   "cell_type": "code",
   "execution_count": 1,
   "metadata": {
    "scrolled": true
   },
   "outputs": [
    {
     "ename": "ERROR",
     "evalue": "Error in is.data.frame(data): 객체 'DF'를 찾을 수 없습니다\n",
     "output_type": "error",
     "traceback": [
      "Error in is.data.frame(data): 객체 'DF'를 찾을 수 없습니다\nTraceback:\n",
      "1. lm(price ~ carat, data = DF)",
      "2. eval(mf, parent.frame())",
      "3. eval(mf, parent.frame())",
      "4. stats::model.frame(formula = price ~ carat, data = DF, drop.unused.levels = TRUE)",
      "5. model.frame.default(formula = price ~ carat, data = DF, drop.unused.levels = TRUE)",
      "6. is.data.frame(data)"
     ]
    }
   ],
   "source": [
    "# Step 3: 회귀모델 구하기\n",
    "Lm <- lm(price ~ carat, data=DF)\n",
    "Lm"
   ]
  },
  {
   "cell_type": "code",
   "execution_count": 8,
   "metadata": {
    "scrolled": true
   },
   "outputs": [
    {
     "data": {
      "text/plain": [
       "\n",
       "Call:\n",
       "lm(formula = price ~ carat, data = DF)\n",
       "\n",
       "Residuals:\n",
       "     Min       1Q   Median       3Q      Max \n",
       "-18585.3   -804.8    -18.9    537.4  12731.7 \n",
       "\n",
       "Coefficients:\n",
       "            Estimate Std. Error t value Pr(>|t|)    \n",
       "(Intercept) -2256.36      13.06  -172.8   <2e-16 ***\n",
       "carat        7756.43      14.07   551.4   <2e-16 ***\n",
       "---\n",
       "Signif. codes:  0 '***' 0.001 '**' 0.01 '*' 0.05 '.' 0.1 ' ' 1\n",
       "\n",
       "Residual standard error: 1549 on 53938 degrees of freedom\n",
       "Multiple R-squared:  0.8493,\tAdjusted R-squared:  0.8493 \n",
       "F-statistic: 3.041e+05 on 1 and 53938 DF,  p-value: < 2.2e-16\n"
      ]
     },
     "metadata": {},
     "output_type": "display_data"
    }
   ],
   "source": [
    "# Step 4: 회귀모델 검증하기\n",
    "summary(Lm)"
   ]
  },
  {
   "cell_type": "markdown",
   "metadata": {},
   "source": [
    "p-value, $R^2$ 모두 괜찮고, 회귀계수들 역시 모두 유의하다.\n",
    "\n",
    "10, 20 캐럿일 때의 가격을 예측해보자."
   ]
  },
  {
   "cell_type": "code",
   "execution_count": 17,
   "metadata": {},
   "outputs": [
    {
     "data": {
      "text/html": [
       "<style>\n",
       ".dl-inline {width: auto; margin:0; padding: 0}\n",
       ".dl-inline>dt, .dl-inline>dd {float: none; width: auto; display: inline-block}\n",
       ".dl-inline>dt::after {content: \":\\0020\"; padding-right: .5ex}\n",
       ".dl-inline>dt:not(:first-of-type) {padding-left: .5ex}\n",
       "</style><dl class=dl-inline><dt>1</dt><dd>75307.8955996093</dd><dt>2</dt><dd>152872.151779264</dd></dl>\n"
      ],
      "text/latex": [
       "\\begin{description*}\n",
       "\\item[1] 75307.8955996093\n",
       "\\item[2] 152872.151779264\n",
       "\\end{description*}\n"
      ],
      "text/markdown": [
       "1\n",
       ":   75307.89559960932\n",
       ":   152872.151779264\n",
       "\n"
      ],
      "text/plain": [
       "       1        2 \n",
       " 75307.9 152872.2 "
      ]
     },
     "metadata": {},
     "output_type": "display_data"
    }
   ],
   "source": [
    "# Step 5: 새로운 데이터 만들기\n",
    "NewDiamond <- data.frame(carat=c(10,20))\n",
    "\n",
    "# Step 6: 예측값 구하기\n",
    "predict(Lm, newdata=NewDiamond)"
   ]
  },
  {
   "cell_type": "markdown",
   "metadata": {},
   "source": [
    "## 3. 예측값 신뢰구간으로 나타내기"
   ]
  },
  {
   "cell_type": "code",
   "execution_count": 2,
   "metadata": {},
   "outputs": [],
   "source": [
    "# Step 1: 데이터 불러오기\n",
    "library(ggplot2)\n",
    "DF <- diamonds"
   ]
  },
  {
   "cell_type": "markdown",
   "metadata": {},
   "source": [
    "이 데이터로부터 표본을 표집해서 회귀모델을 구한다. ```sample()```함수를 이용한다.\n",
    "\n",
    "diamonds 데이터로부터 100개의 임의 데이터를 표집한다."
   ]
  },
  {
   "cell_type": "code",
   "execution_count": 3,
   "metadata": {},
   "outputs": [],
   "source": [
    "# Step 2: 표본 만들기\n",
    "Sample <- DF[sample(nrow(DF), 100),]"
   ]
  },
  {
   "cell_type": "code",
   "execution_count": 9,
   "metadata": {},
   "outputs": [
    {
     "name": "stderr",
     "output_type": "stream",
     "text": [
      "`geom_smooth()` using formula 'y ~ x'\n",
      "\n",
      "`geom_smooth()` using formula 'y ~ x'\n",
      "\n"
     ]
    },
    {
     "data": {
      "image/png": "[encoded data removed]",
      "text/plain": [
       "plot without title"
      ]
     },
     "metadata": {
      "image/png": {
       "height": 420,
       "width": 420
      },
      "text/plain": {
       "height": 420,
       "width": 420
      }
     },
     "output_type": "display_data"
    },
    {
     "data": {
      "image/png": "[encoded data removed]",
      "text/plain": [
       "plot without title"
      ]
     },
     "metadata": {
      "image/png": {
       "height": 420,
       "width": 420
      },
      "text/plain": {
       "height": 420,
       "width": 420
      }
     },
     "output_type": "display_data"
    }
   ],
   "source": [
    "# Step 4: 그래프 그리기\n",
    "g1 <- ggplot(Sample, aes(x=carat, y=price, colour=color)) + geom_point()\n",
    "g2 <- ggplot(Sample, aes(x=carat, y=price)) + geom_point(aes(colour=color))\n",
    "\n",
    "# Step 5: color별 회귀모델\n",
    "g1 + geom_smooth(method=\"lm\")\n",
    "g2 + geom_smooth(method=\"lm\")"
   ]
  },
  {
   "cell_type": "markdown",
   "metadata": {},
   "source": [
    "```ggplot()``` 함수에 colour 인자를 넣으면 회귀모델은 그룹별로 여러 개 표시된다.\n",
    "\n",
    "하지만 ```geom_point()``` 함수에 넣으면 회귀모델은 하나만 표시된다.\n",
    "\n",
    "```ggplot()``` 함수에 넣으면 colour 인자가 그 뒤에 있는 함수들에 상속되지만 ```geom_point()``` 함수에 넣으면 그렇지 않기 때문이다."
   ]
  },
  {
   "cell_type": "markdown",
   "metadata": {},
   "source": [
    "정확한 값으로 예측구간을 알고 싶다면 ```predict()```함수에 인자 몇 개를 추가한다."
   ]
  },
  {
   "cell_type": "code",
   "execution_count": 27,
   "metadata": {},
   "outputs": [
    {
     "data": {
      "text/html": [
       "<table>\n",
       "<caption>A matrix: 53940 × 3 of type dbl</caption>\n",
       "<thead>\n",
       "\t<tr><th></th><th scope=col>fit</th><th scope=col>lwr</th><th scope=col>upr</th></tr>\n",
       "</thead>\n",
       "<tbody>\n",
       "\t<tr><th scope=row>1</th><td>-472.382688</td><td>-492.77819</td><td>-451.98718</td></tr>\n",
       "\t<tr><th scope=row>2</th><td>-627.511200</td><td>-648.33304</td><td>-606.68936</td></tr>\n",
       "\t<tr><th scope=row>3</th><td>-472.382688</td><td>-492.77819</td><td>-451.98718</td></tr>\n",
       "\t<tr><th scope=row>4</th><td>  -6.997151</td><td> -26.15198</td><td>  12.15768</td></tr>\n",
       "\t<tr><th scope=row>5</th><td> 148.131362</td><td> 129.37590</td><td> 166.88683</td></tr>\n",
       "\t<tr><th scope=row>6</th><td>-394.818432</td><td>-415.00304</td><td>-374.63382</td></tr>\n",
       "\t<tr><th scope=row>7</th><td>-394.818432</td><td>-415.00304</td><td>-374.63382</td></tr>\n",
       "\t<tr><th scope=row>8</th><td>-239.689919</td><td>-259.45752</td><td>-219.92232</td></tr>\n",
       "\t<tr><th scope=row>9</th><td>-549.946944</td><td>-570.55488</td><td>-529.33901</td></tr>\n",
       "\t<tr><th scope=row>10</th><td>-472.382688</td><td>-492.77819</td><td>-451.98718</td></tr>\n",
       "\t<tr><th scope=row>11</th><td>  70.567105</td><td>  51.61291</td><td>  89.52130</td></tr>\n",
       "\t<tr><th scope=row>12</th><td>-472.382688</td><td>-492.77819</td><td>-451.98718</td></tr>\n",
       "\t<tr><th scope=row>13</th><td>-549.946944</td><td>-570.55488</td><td>-529.33901</td></tr>\n",
       "\t<tr><th scope=row>14</th><td> 148.131362</td><td> 129.37590</td><td> 166.88683</td></tr>\n",
       "\t<tr><th scope=row>15</th><td>-705.075456</td><td>-726.11265</td><td>-684.03826</td></tr>\n",
       "\t<tr><th scope=row>16</th><td> 225.695618</td><td> 207.13692</td><td> 244.25432</td></tr>\n",
       "\t<tr><th scope=row>17</th><td>  70.567105</td><td>  51.61291</td><td>  89.52130</td></tr>\n",
       "\t<tr><th scope=row>18</th><td>  70.567105</td><td>  51.61291</td><td>  89.52130</td></tr>\n",
       "\t<tr><th scope=row>19</th><td>  70.567105</td><td>  51.61291</td><td>  89.52130</td></tr>\n",
       "\t<tr><th scope=row>20</th><td>  70.567105</td><td>  51.61291</td><td>  89.52130</td></tr>\n",
       "\t<tr><th scope=row>21</th><td>  70.567105</td><td>  51.61291</td><td>  89.52130</td></tr>\n",
       "\t<tr><th scope=row>22</th><td>-472.382688</td><td>-492.77819</td><td>-451.98718</td></tr>\n",
       "\t<tr><th scope=row>23</th><td>-472.382688</td><td>-492.77819</td><td>-451.98718</td></tr>\n",
       "\t<tr><th scope=row>24</th><td> 148.131362</td><td> 129.37590</td><td> 166.88683</td></tr>\n",
       "\t<tr><th scope=row>25</th><td> 148.131362</td><td> 129.37590</td><td> 166.88683</td></tr>\n",
       "\t<tr><th scope=row>26</th><td>-472.382688</td><td>-492.77819</td><td>-451.98718</td></tr>\n",
       "\t<tr><th scope=row>27</th><td>-394.818432</td><td>-415.00304</td><td>-374.63382</td></tr>\n",
       "\t<tr><th scope=row>28</th><td>  70.567105</td><td>  51.61291</td><td>  89.52130</td></tr>\n",
       "\t<tr><th scope=row>29</th><td>-472.382688</td><td>-492.77819</td><td>-451.98718</td></tr>\n",
       "\t<tr><th scope=row>30</th><td>-472.382688</td><td>-492.77819</td><td>-451.98718</td></tr>\n",
       "\t<tr><th scope=row>...</th><td>...</td><td>...</td><td>...</td></tr>\n",
       "\t<tr><th scope=row>53911</th><td>3173.137</td><td>3159.793</td><td>3186.482</td></tr>\n",
       "\t<tr><th scope=row>53912</th><td>2164.802</td><td>2150.301</td><td>2179.303</td></tr>\n",
       "\t<tr><th scope=row>53913</th><td>2475.059</td><td>2461.001</td><td>2489.117</td></tr>\n",
       "\t<tr><th scope=row>53914</th><td>3948.780</td><td>3935.711</td><td>3961.849</td></tr>\n",
       "\t<tr><th scope=row>53915</th><td>4259.037</td><td>4245.917</td><td>4272.157</td></tr>\n",
       "\t<tr><th scope=row>53916</th><td>3716.087</td><td>3702.996</td><td>3729.178</td></tr>\n",
       "\t<tr><th scope=row>53917</th><td>3483.394</td><td>3470.228</td><td>3496.560</td></tr>\n",
       "\t<tr><th scope=row>53918</th><td>4724.422</td><td>4711.054</td><td>4737.791</td></tr>\n",
       "\t<tr><th scope=row>53919</th><td>3638.523</td><td>3625.412</td><td>3651.633</td></tr>\n",
       "\t<tr><th scope=row>53920</th><td>3638.523</td><td>3625.412</td><td>3651.633</td></tr>\n",
       "\t<tr><th scope=row>53921</th><td>3173.137</td><td>3159.793</td><td>3186.482</td></tr>\n",
       "\t<tr><th scope=row>53922</th><td>3173.137</td><td>3159.793</td><td>3186.482</td></tr>\n",
       "\t<tr><th scope=row>53923</th><td>3173.137</td><td>3159.793</td><td>3186.482</td></tr>\n",
       "\t<tr><th scope=row>53924</th><td>3405.830</td><td>3392.628</td><td>3419.032</td></tr>\n",
       "\t<tr><th scope=row>53925</th><td>3405.830</td><td>3392.628</td><td>3419.032</td></tr>\n",
       "\t<tr><th scope=row>53926</th><td>3871.216</td><td>3858.145</td><td>3884.286</td></tr>\n",
       "\t<tr><th scope=row>53927</th><td>3250.702</td><td>3237.410</td><td>3263.993</td></tr>\n",
       "\t<tr><th scope=row>53928</th><td>3871.216</td><td>3858.145</td><td>3884.286</td></tr>\n",
       "\t<tr><th scope=row>53929</th><td>3871.216</td><td>3858.145</td><td>3884.286</td></tr>\n",
       "\t<tr><th scope=row>53930</th><td>3250.702</td><td>3237.410</td><td>3263.993</td></tr>\n",
       "\t<tr><th scope=row>53931</th><td>3250.702</td><td>3237.410</td><td>3263.993</td></tr>\n",
       "\t<tr><th scope=row>53932</th><td>3250.702</td><td>3237.410</td><td>3263.993</td></tr>\n",
       "\t<tr><th scope=row>53933</th><td>3173.137</td><td>3159.793</td><td>3186.482</td></tr>\n",
       "\t<tr><th scope=row>53934</th><td>3173.137</td><td>3159.793</td><td>3186.482</td></tr>\n",
       "\t<tr><th scope=row>53935</th><td>3328.266</td><td>3315.022</td><td>3341.510</td></tr>\n",
       "\t<tr><th scope=row>53936</th><td>3328.266</td><td>3315.022</td><td>3341.510</td></tr>\n",
       "\t<tr><th scope=row>53937</th><td>3328.266</td><td>3315.022</td><td>3341.510</td></tr>\n",
       "\t<tr><th scope=row>53938</th><td>3173.137</td><td>3159.793</td><td>3186.482</td></tr>\n",
       "\t<tr><th scope=row>53939</th><td>4414.165</td><td>4400.985</td><td>4427.346</td></tr>\n",
       "\t<tr><th scope=row>53940</th><td>3560.959</td><td>3547.823</td><td>3574.094</td></tr>\n",
       "</tbody>\n",
       "</table>\n"
      ],
      "text/latex": [
       "A matrix: 53940 × 3 of type dbl\n",
       "\\begin{tabular}{r|lll}\n",
       "  & fit & lwr & upr\\\\\n",
       "\\hline\n",
       "\t1 & -472.382688 & -492.77819 & -451.98718\\\\\n",
       "\t2 & -627.511200 & -648.33304 & -606.68936\\\\\n",
       "\t3 & -472.382688 & -492.77819 & -451.98718\\\\\n",
       "\t4 &   -6.997151 &  -26.15198 &   12.15768\\\\\n",
       "\t5 &  148.131362 &  129.37590 &  166.88683\\\\\n",
       "\t6 & -394.818432 & -415.00304 & -374.63382\\\\\n",
       "\t7 & -394.818432 & -415.00304 & -374.63382\\\\\n",
       "\t8 & -239.689919 & -259.45752 & -219.92232\\\\\n",
       "\t9 & -549.946944 & -570.55488 & -529.33901\\\\\n",
       "\t10 & -472.382688 & -492.77819 & -451.98718\\\\\n",
       "\t11 &   70.567105 &   51.61291 &   89.52130\\\\\n",
       "\t12 & -472.382688 & -492.77819 & -451.98718\\\\\n",
       "\t13 & -549.946944 & -570.55488 & -529.33901\\\\\n",
       "\t14 &  148.131362 &  129.37590 &  166.88683\\\\\n",
       "\t15 & -705.075456 & -726.11265 & -684.03826\\\\\n",
       "\t16 &  225.695618 &  207.13692 &  244.25432\\\\\n",
       "\t17 &   70.567105 &   51.61291 &   89.52130\\\\\n",
       "\t18 &   70.567105 &   51.61291 &   89.52130\\\\\n",
       "\t19 &   70.567105 &   51.61291 &   89.52130\\\\\n",
       "\t20 &   70.567105 &   51.61291 &   89.52130\\\\\n",
       "\t21 &   70.567105 &   51.61291 &   89.52130\\\\\n",
       "\t22 & -472.382688 & -492.77819 & -451.98718\\\\\n",
       "\t23 & -472.382688 & -492.77819 & -451.98718\\\\\n",
       "\t24 &  148.131362 &  129.37590 &  166.88683\\\\\n",
       "\t25 &  148.131362 &  129.37590 &  166.88683\\\\\n",
       "\t26 & -472.382688 & -492.77819 & -451.98718\\\\\n",
       "\t27 & -394.818432 & -415.00304 & -374.63382\\\\\n",
       "\t28 &   70.567105 &   51.61291 &   89.52130\\\\\n",
       "\t29 & -472.382688 & -492.77819 & -451.98718\\\\\n",
       "\t30 & -472.382688 & -492.77819 & -451.98718\\\\\n",
       "\t... & ... & ... & ...\\\\\n",
       "\t53911 & 3173.137 & 3159.793 & 3186.482\\\\\n",
       "\t53912 & 2164.802 & 2150.301 & 2179.303\\\\\n",
       "\t53913 & 2475.059 & 2461.001 & 2489.117\\\\\n",
       "\t53914 & 3948.780 & 3935.711 & 3961.849\\\\\n",
       "\t53915 & 4259.037 & 4245.917 & 4272.157\\\\\n",
       "\t53916 & 3716.087 & 3702.996 & 3729.178\\\\\n",
       "\t53917 & 3483.394 & 3470.228 & 3496.560\\\\\n",
       "\t53918 & 4724.422 & 4711.054 & 4737.791\\\\\n",
       "\t53919 & 3638.523 & 3625.412 & 3651.633\\\\\n",
       "\t53920 & 3638.523 & 3625.412 & 3651.633\\\\\n",
       "\t53921 & 3173.137 & 3159.793 & 3186.482\\\\\n",
       "\t53922 & 3173.137 & 3159.793 & 3186.482\\\\\n",
       "\t53923 & 3173.137 & 3159.793 & 3186.482\\\\\n",
       "\t53924 & 3405.830 & 3392.628 & 3419.032\\\\\n",
       "\t53925 & 3405.830 & 3392.628 & 3419.032\\\\\n",
       "\t53926 & 3871.216 & 3858.145 & 3884.286\\\\\n",
       "\t53927 & 3250.702 & 3237.410 & 3263.993\\\\\n",
       "\t53928 & 3871.216 & 3858.145 & 3884.286\\\\\n",
       "\t53929 & 3871.216 & 3858.145 & 3884.286\\\\\n",
       "\t53930 & 3250.702 & 3237.410 & 3263.993\\\\\n",
       "\t53931 & 3250.702 & 3237.410 & 3263.993\\\\\n",
       "\t53932 & 3250.702 & 3237.410 & 3263.993\\\\\n",
       "\t53933 & 3173.137 & 3159.793 & 3186.482\\\\\n",
       "\t53934 & 3173.137 & 3159.793 & 3186.482\\\\\n",
       "\t53935 & 3328.266 & 3315.022 & 3341.510\\\\\n",
       "\t53936 & 3328.266 & 3315.022 & 3341.510\\\\\n",
       "\t53937 & 3328.266 & 3315.022 & 3341.510\\\\\n",
       "\t53938 & 3173.137 & 3159.793 & 3186.482\\\\\n",
       "\t53939 & 4414.165 & 4400.985 & 4427.346\\\\\n",
       "\t53940 & 3560.959 & 3547.823 & 3574.094\\\\\n",
       "\\end{tabular}\n"
      ],
      "text/markdown": [
       "\n",
       "A matrix: 53940 × 3 of type dbl\n",
       "\n",
       "| <!--/--> | fit | lwr | upr |\n",
       "|---|---|---|---|\n",
       "| 1 | -472.382688 | -492.77819 | -451.98718 |\n",
       "| 2 | -627.511200 | -648.33304 | -606.68936 |\n",
       "| 3 | -472.382688 | -492.77819 | -451.98718 |\n",
       "| 4 |   -6.997151 |  -26.15198 |   12.15768 |\n",
       "| 5 |  148.131362 |  129.37590 |  166.88683 |\n",
       "| 6 | -394.818432 | -415.00304 | -374.63382 |\n",
       "| 7 | -394.818432 | -415.00304 | -374.63382 |\n",
       "| 8 | -239.689919 | -259.45752 | -219.92232 |\n",
       "| 9 | -549.946944 | -570.55488 | -529.33901 |\n",
       "| 10 | -472.382688 | -492.77819 | -451.98718 |\n",
       "| 11 |   70.567105 |   51.61291 |   89.52130 |\n",
       "| 12 | -472.382688 | -492.77819 | -451.98718 |\n",
       "| 13 | -549.946944 | -570.55488 | -529.33901 |\n",
       "| 14 |  148.131362 |  129.37590 |  166.88683 |\n",
       "| 15 | -705.075456 | -726.11265 | -684.03826 |\n",
       "| 16 |  225.695618 |  207.13692 |  244.25432 |\n",
       "| 17 |   70.567105 |   51.61291 |   89.52130 |\n",
       "| 18 |   70.567105 |   51.61291 |   89.52130 |\n",
       "| 19 |   70.567105 |   51.61291 |   89.52130 |\n",
       "| 20 |   70.567105 |   51.61291 |   89.52130 |\n",
       "| 21 |   70.567105 |   51.61291 |   89.52130 |\n",
       "| 22 | -472.382688 | -492.77819 | -451.98718 |\n",
       "| 23 | -472.382688 | -492.77819 | -451.98718 |\n",
       "| 24 |  148.131362 |  129.37590 |  166.88683 |\n",
       "| 25 |  148.131362 |  129.37590 |  166.88683 |\n",
       "| 26 | -472.382688 | -492.77819 | -451.98718 |\n",
       "| 27 | -394.818432 | -415.00304 | -374.63382 |\n",
       "| 28 |   70.567105 |   51.61291 |   89.52130 |\n",
       "| 29 | -472.382688 | -492.77819 | -451.98718 |\n",
       "| 30 | -472.382688 | -492.77819 | -451.98718 |\n",
       "| ... | ... | ... | ... |\n",
       "| 53911 | 3173.137 | 3159.793 | 3186.482 |\n",
       "| 53912 | 2164.802 | 2150.301 | 2179.303 |\n",
       "| 53913 | 2475.059 | 2461.001 | 2489.117 |\n",
       "| 53914 | 3948.780 | 3935.711 | 3961.849 |\n",
       "| 53915 | 4259.037 | 4245.917 | 4272.157 |\n",
       "| 53916 | 3716.087 | 3702.996 | 3729.178 |\n",
       "| 53917 | 3483.394 | 3470.228 | 3496.560 |\n",
       "| 53918 | 4724.422 | 4711.054 | 4737.791 |\n",
       "| 53919 | 3638.523 | 3625.412 | 3651.633 |\n",
       "| 53920 | 3638.523 | 3625.412 | 3651.633 |\n",
       "| 53921 | 3173.137 | 3159.793 | 3186.482 |\n",
       "| 53922 | 3173.137 | 3159.793 | 3186.482 |\n",
       "| 53923 | 3173.137 | 3159.793 | 3186.482 |\n",
       "| 53924 | 3405.830 | 3392.628 | 3419.032 |\n",
       "| 53925 | 3405.830 | 3392.628 | 3419.032 |\n",
       "| 53926 | 3871.216 | 3858.145 | 3884.286 |\n",
       "| 53927 | 3250.702 | 3237.410 | 3263.993 |\n",
       "| 53928 | 3871.216 | 3858.145 | 3884.286 |\n",
       "| 53929 | 3871.216 | 3858.145 | 3884.286 |\n",
       "| 53930 | 3250.702 | 3237.410 | 3263.993 |\n",
       "| 53931 | 3250.702 | 3237.410 | 3263.993 |\n",
       "| 53932 | 3250.702 | 3237.410 | 3263.993 |\n",
       "| 53933 | 3173.137 | 3159.793 | 3186.482 |\n",
       "| 53934 | 3173.137 | 3159.793 | 3186.482 |\n",
       "| 53935 | 3328.266 | 3315.022 | 3341.510 |\n",
       "| 53936 | 3328.266 | 3315.022 | 3341.510 |\n",
       "| 53937 | 3328.266 | 3315.022 | 3341.510 |\n",
       "| 53938 | 3173.137 | 3159.793 | 3186.482 |\n",
       "| 53939 | 4414.165 | 4400.985 | 4427.346 |\n",
       "| 53940 | 3560.959 | 3547.823 | 3574.094 |\n",
       "\n"
      ],
      "text/plain": [
       "      fit         lwr        upr       \n",
       "1     -472.382688 -492.77819 -451.98718\n",
       "2     -627.511200 -648.33304 -606.68936\n",
       "3     -472.382688 -492.77819 -451.98718\n",
       "4       -6.997151  -26.15198   12.15768\n",
       "5      148.131362  129.37590  166.88683\n",
       "6     -394.818432 -415.00304 -374.63382\n",
       "7     -394.818432 -415.00304 -374.63382\n",
       "8     -239.689919 -259.45752 -219.92232\n",
       "9     -549.946944 -570.55488 -529.33901\n",
       "10    -472.382688 -492.77819 -451.98718\n",
       "11      70.567105   51.61291   89.52130\n",
       "12    -472.382688 -492.77819 -451.98718\n",
       "13    -549.946944 -570.55488 -529.33901\n",
       "14     148.131362  129.37590  166.88683\n",
       "15    -705.075456 -726.11265 -684.03826\n",
       "16     225.695618  207.13692  244.25432\n",
       "17      70.567105   51.61291   89.52130\n",
       "18      70.567105   51.61291   89.52130\n",
       "19      70.567105   51.61291   89.52130\n",
       "20      70.567105   51.61291   89.52130\n",
       "21      70.567105   51.61291   89.52130\n",
       "22    -472.382688 -492.77819 -451.98718\n",
       "23    -472.382688 -492.77819 -451.98718\n",
       "24     148.131362  129.37590  166.88683\n",
       "25     148.131362  129.37590  166.88683\n",
       "26    -472.382688 -492.77819 -451.98718\n",
       "27    -394.818432 -415.00304 -374.63382\n",
       "28      70.567105   51.61291   89.52130\n",
       "29    -472.382688 -492.77819 -451.98718\n",
       "30    -472.382688 -492.77819 -451.98718\n",
       "...   ...         ...        ...       \n",
       "53911 3173.137    3159.793   3186.482  \n",
       "53912 2164.802    2150.301   2179.303  \n",
       "53913 2475.059    2461.001   2489.117  \n",
       "53914 3948.780    3935.711   3961.849  \n",
       "53915 4259.037    4245.917   4272.157  \n",
       "53916 3716.087    3702.996   3729.178  \n",
       "53917 3483.394    3470.228   3496.560  \n",
       "53918 4724.422    4711.054   4737.791  \n",
       "53919 3638.523    3625.412   3651.633  \n",
       "53920 3638.523    3625.412   3651.633  \n",
       "53921 3173.137    3159.793   3186.482  \n",
       "53922 3173.137    3159.793   3186.482  \n",
       "53923 3173.137    3159.793   3186.482  \n",
       "53924 3405.830    3392.628   3419.032  \n",
       "53925 3405.830    3392.628   3419.032  \n",
       "53926 3871.216    3858.145   3884.286  \n",
       "53927 3250.702    3237.410   3263.993  \n",
       "53928 3871.216    3858.145   3884.286  \n",
       "53929 3871.216    3858.145   3884.286  \n",
       "53930 3250.702    3237.410   3263.993  \n",
       "53931 3250.702    3237.410   3263.993  \n",
       "53932 3250.702    3237.410   3263.993  \n",
       "53933 3173.137    3159.793   3186.482  \n",
       "53934 3173.137    3159.793   3186.482  \n",
       "53935 3328.266    3315.022   3341.510  \n",
       "53936 3328.266    3315.022   3341.510  \n",
       "53937 3328.266    3315.022   3341.510  \n",
       "53938 3173.137    3159.793   3186.482  \n",
       "53939 4414.165    4400.985   4427.346  \n",
       "53940 3560.959    3547.823   3574.094  "
      ]
     },
     "metadata": {},
     "output_type": "display_data"
    }
   ],
   "source": [
    "# Step 6: 예측구간 나타내기\n",
    "Lm <- lm(price ~ carat, data=DF)\n",
    "predict(Lm, interval=\"confidence\", level=0.95)"
   ]
  }
 ],
 "metadata": {
  "kernelspec": {
   "display_name": "R",
   "language": "R",
   "name": "ir"
  },
  "language_info": {
   "codemirror_mode": "r",
   "file_extension": ".r",
   "mimetype": "text/x-r-source",
   "name": "R",
   "pygments_lexer": "r",
   "version": "4.0.0"
  }
 },
 "nbformat": 4,
 "nbformat_minor": 4
}
