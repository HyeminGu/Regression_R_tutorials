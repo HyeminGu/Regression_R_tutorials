{
 "cells": [
  {
   "cell_type": "markdown",
   "metadata": {},
   "source": [
    "# Variable Selection in Multiple Regression (다중선형회귀분석에서의 변수 선택법)\n",
    "\n",
    "## Contents\n",
    "1. 단계적 방법(stepwise selection) - step() 함수 이용\n",
    "2. 최상부분집합선택법 - leaps 패키지 이용\n",
    "3. 전진선택법으로 선택하기 - leaps 패키지 이용\n",
    "4. 후진제거법으로 선택하기 - leaps 패키지 이용\n",
    "---\n",
    "## 1. 단계적 방법(stepwise selection) - step() 함수 이용\n",
    "```step()``` 함수는 AIC를 기준으로 다중회귀모델의 변수를 판단해준다.\n",
    "\n",
    "사용법: ```step(회귀모델, direction)``` \n",
    "direction은 \"both\", \"forward\", \"backward\" 중에서 선택할 수 있다."
   ]
  },
  {
   "cell_type": "code",
   "execution_count": 1,
   "metadata": {},
   "outputs": [
    {
     "data": {
      "text/plain": [
       "\n",
       "Call:\n",
       "lm(formula = mpg ~ ., data = DF)\n",
       "\n",
       "Coefficients:\n",
       "(Intercept)          cyl         disp           hp         drat           wt  \n",
       "   12.30337     -0.11144      0.01334     -0.02148      0.78711     -3.71530  \n",
       "       qsec           vs           am         gear         carb  \n",
       "    0.82104      0.31776      2.52023      0.65541     -0.19942  \n"
      ]
     },
     "metadata": {},
     "output_type": "display_data"
    }
   ],
   "source": [
    "# Step 1: mtcars 이용해 회귀모델을 구하기\n",
    "DF <- mtcars\n",
    "Lm <- lm(mpg ~ ., data=DF)\n",
    "Lm"
   ]
  },
  {
   "cell_type": "code",
   "execution_count": 2,
   "metadata": {},
   "outputs": [
    {
     "name": "stdout",
     "output_type": "stream",
     "text": [
      "Start:  AIC=70.9\n",
      "mpg ~ cyl + disp + hp + drat + wt + qsec + vs + am + gear + carb\n",
      "\n",
      "       Df Sum of Sq    RSS    AIC\n",
      "- cyl   1    0.0799 147.57 68.915\n",
      "- vs    1    0.1601 147.66 68.932\n",
      "- carb  1    0.4067 147.90 68.986\n",
      "- gear  1    1.3531 148.85 69.190\n",
      "- drat  1    1.6270 149.12 69.249\n",
      "- disp  1    3.9167 151.41 69.736\n",
      "- hp    1    6.8399 154.33 70.348\n",
      "- qsec  1    8.8641 156.36 70.765\n",
      "<none>              147.49 70.898\n",
      "- am    1   10.5467 158.04 71.108\n",
      "- wt    1   27.0144 174.51 74.280\n",
      "\n",
      "Step:  AIC=68.92\n",
      "mpg ~ disp + hp + drat + wt + qsec + vs + am + gear + carb\n",
      "\n",
      "       Df Sum of Sq    RSS    AIC\n",
      "- vs    1    0.2685 147.84 66.973\n",
      "- carb  1    0.5201 148.09 67.028\n",
      "- gear  1    1.8211 149.40 67.308\n",
      "- drat  1    1.9826 149.56 67.342\n",
      "- disp  1    3.9009 151.47 67.750\n",
      "- hp    1    7.3632 154.94 68.473\n",
      "<none>              147.57 68.915\n",
      "- qsec  1   10.0933 157.67 69.032\n",
      "- am    1   11.8359 159.41 69.384\n",
      "+ cyl   1    0.0799 147.49 70.898\n",
      "- wt    1   27.0280 174.60 72.297\n",
      "\n",
      "Step:  AIC=66.97\n",
      "mpg ~ disp + hp + drat + wt + qsec + am + gear + carb\n",
      "\n",
      "       Df Sum of Sq    RSS    AIC\n",
      "- carb  1    0.6855 148.53 65.121\n",
      "- gear  1    2.1437 149.99 65.434\n",
      "- drat  1    2.2139 150.06 65.449\n",
      "- disp  1    3.6467 151.49 65.753\n",
      "- hp    1    7.1060 154.95 66.475\n",
      "<none>              147.84 66.973\n",
      "- am    1   11.5694 159.41 67.384\n",
      "- qsec  1   15.6830 163.53 68.200\n",
      "+ vs    1    0.2685 147.57 68.915\n",
      "+ cyl   1    0.1883 147.66 68.932\n",
      "- wt    1   27.3799 175.22 70.410\n",
      "\n",
      "Step:  AIC=65.12\n",
      "mpg ~ disp + hp + drat + wt + qsec + am + gear\n",
      "\n",
      "       Df Sum of Sq    RSS    AIC\n",
      "- gear  1     1.565 150.09 63.457\n",
      "- drat  1     1.932 150.46 63.535\n",
      "<none>              148.53 65.121\n",
      "- disp  1    10.110 158.64 65.229\n",
      "- am    1    12.323 160.85 65.672\n",
      "- hp    1    14.826 163.35 66.166\n",
      "+ carb  1     0.685 147.84 66.973\n",
      "+ vs    1     0.434 148.09 67.028\n",
      "+ cyl   1     0.414 148.11 67.032\n",
      "- qsec  1    26.408 174.94 68.358\n",
      "- wt    1    69.127 217.66 75.350\n",
      "\n",
      "Step:  AIC=63.46\n",
      "mpg ~ disp + hp + drat + wt + qsec + am\n",
      "\n",
      "       Df Sum of Sq    RSS    AIC\n",
      "- drat  1     3.345 153.44 62.162\n",
      "- disp  1     8.545 158.64 63.229\n",
      "<none>              150.09 63.457\n",
      "- hp    1    13.285 163.38 64.171\n",
      "+ gear  1     1.565 148.53 65.121\n",
      "+ cyl   1     1.003 149.09 65.242\n",
      "+ vs    1     0.645 149.45 65.319\n",
      "+ carb  1     0.107 149.99 65.434\n",
      "- am    1    20.036 170.13 65.466\n",
      "- qsec  1    25.574 175.67 66.491\n",
      "- wt    1    67.572 217.66 73.351\n",
      "\n",
      "Step:  AIC=62.16\n",
      "mpg ~ disp + hp + wt + qsec + am\n",
      "\n",
      "       Df Sum of Sq    RSS    AIC\n",
      "- disp  1     6.629 160.07 61.515\n",
      "<none>              153.44 62.162\n",
      "- hp    1    12.572 166.01 62.682\n",
      "+ drat  1     3.345 150.09 63.457\n",
      "+ gear  1     2.977 150.46 63.535\n",
      "+ cyl   1     2.447 150.99 63.648\n",
      "+ vs    1     1.121 152.32 63.927\n",
      "+ carb  1     0.011 153.43 64.160\n",
      "- qsec  1    26.470 179.91 65.255\n",
      "- am    1    32.198 185.63 66.258\n",
      "- wt    1    69.043 222.48 72.051\n",
      "\n",
      "Step:  AIC=61.52\n",
      "mpg ~ hp + wt + qsec + am\n",
      "\n",
      "       Df Sum of Sq    RSS    AIC\n",
      "- hp    1     9.219 169.29 61.307\n",
      "<none>              160.07 61.515\n",
      "+ disp  1     6.629 153.44 62.162\n",
      "+ carb  1     3.227 156.84 62.864\n",
      "+ drat  1     1.428 158.64 63.229\n",
      "- qsec  1    20.225 180.29 63.323\n",
      "+ cyl   1     0.249 159.82 63.465\n",
      "+ vs    1     0.249 159.82 63.466\n",
      "+ gear  1     0.171 159.90 63.481\n",
      "- am    1    25.993 186.06 64.331\n",
      "- wt    1    78.494 238.56 72.284\n",
      "\n",
      "Step:  AIC=61.31\n",
      "mpg ~ wt + qsec + am\n",
      "\n",
      "       Df Sum of Sq    RSS    AIC\n",
      "<none>              169.29 61.307\n",
      "+ hp    1     9.219 160.07 61.515\n",
      "+ carb  1     8.036 161.25 61.751\n",
      "+ disp  1     3.276 166.01 62.682\n",
      "+ cyl   1     1.501 167.78 63.022\n",
      "+ drat  1     1.400 167.89 63.042\n",
      "+ gear  1     0.123 169.16 63.284\n",
      "+ vs    1     0.000 169.29 63.307\n",
      "- am    1    26.178 195.46 63.908\n",
      "- qsec  1   109.034 278.32 75.217\n",
      "- wt    1   183.347 352.63 82.790\n"
     ]
    }
   ],
   "source": [
    "# Step 2: step() 함수 사용하기\n",
    "Slm <- step(Lm, direction=\"both\")"
   ]
  },
  {
   "cell_type": "markdown",
   "metadata": {},
   "source": [
    "direction=\"both\" 설정 시, 변수를 추가하거나 제거하면서 AIC 값이 작은 모델을 찾는다.\n",
    "\\+ 표시가 된 변수는 탈락한 변수들이다."
   ]
  },
  {
   "cell_type": "code",
   "execution_count": 3,
   "metadata": {},
   "outputs": [
    {
     "data": {
      "text/plain": [
       "\n",
       "Call:\n",
       "lm(formula = mpg ~ wt + qsec + am, data = DF)\n",
       "\n",
       "Coefficients:\n",
       "(Intercept)           wt         qsec           am  \n",
       "      9.618       -3.917        1.226        2.936  \n"
      ]
     },
     "metadata": {},
     "output_type": "display_data"
    }
   ],
   "source": [
    "# Step 3: 최종 모델 확인하기\n",
    "Slm"
   ]
  },
  {
   "cell_type": "markdown",
   "metadata": {},
   "source": [
    "---\n",
    "## 2. 최상부분집합선택법 - leaps 패키지 이용\n",
    "leaps 패키지를 통해서 변수 개수가 동일한 부분집합들 가운데 가장 좋은 모델을 고를 수 있다. \n",
    "\n",
    "leaps 패키지의 ```regsubsets()``` 함수를 이용한다. ```regsubsets()```는 BIC값이 작은 모델을 찾는다.\n",
    "\n",
    "이용법: ```regsubsets(종속변수 ~ 독립변수들, 데이터, 최대 독립변수 개수, 변수선택법)```"
   ]
  },
  {
   "cell_type": "code",
   "execution_count": 4,
   "metadata": {
    "scrolled": true
   },
   "outputs": [
    {
     "name": "stderr",
     "output_type": "stream",
     "text": [
      "Installing package into 'C:/Users/hyemin/Documents/R/win-library/4.0'\n",
      "(as 'lib' is unspecified)\n",
      "\n"
     ]
    },
    {
     "name": "stdout",
     "output_type": "stream",
     "text": [
      "package 'leaps' successfully unpacked and MD5 sums checked\n",
      "\n",
      "The downloaded binary packages are in\n",
      "\tC:\\Users\\hyemin\\AppData\\Local\\Temp\\RtmpQ7lpY8\\downloaded_packages\n"
     ]
    }
   ],
   "source": [
    "# Step 1: leaps 패키지 설치\n",
    "#install.packages(\"leaps\")\n",
    "library(\"leaps\")"
   ]
  },
  {
   "cell_type": "code",
   "execution_count": 8,
   "metadata": {},
   "outputs": [],
   "source": [
    "# Step 2: regsubsets() 함수를 이용해 변수선택하기\n",
    "Slm <- regsubsets(mpg ~ ., data=DF, nvmax=10, method=\"exhaustive\")"
   ]
  },
  {
   "cell_type": "markdown",
   "metadata": {},
   "source": [
    "결과를 보기 위해서는 ```summary()``` 함수를 이용한다."
   ]
  },
  {
   "cell_type": "code",
   "execution_count": 9,
   "metadata": {},
   "outputs": [
    {
     "data": {
      "text/plain": [
       "Subset selection object\n",
       "Call: regsubsets.formula(mpg ~ ., data = DF, nvmax = 10, method = \"exhaustive\")\n",
       "10 Variables  (and intercept)\n",
       "     Forced in Forced out\n",
       "cyl      FALSE      FALSE\n",
       "disp     FALSE      FALSE\n",
       "hp       FALSE      FALSE\n",
       "drat     FALSE      FALSE\n",
       "wt       FALSE      FALSE\n",
       "qsec     FALSE      FALSE\n",
       "vs       FALSE      FALSE\n",
       "am       FALSE      FALSE\n",
       "gear     FALSE      FALSE\n",
       "carb     FALSE      FALSE\n",
       "1 subsets of each size up to 10\n",
       "Selection Algorithm: exhaustive\n",
       "          cyl disp hp  drat wt  qsec vs  am  gear carb\n",
       "1  ( 1 )  \" \" \" \"  \" \" \" \"  \"*\" \" \"  \" \" \" \" \" \"  \" \" \n",
       "2  ( 1 )  \"*\" \" \"  \" \" \" \"  \"*\" \" \"  \" \" \" \" \" \"  \" \" \n",
       "3  ( 1 )  \" \" \" \"  \" \" \" \"  \"*\" \"*\"  \" \" \"*\" \" \"  \" \" \n",
       "4  ( 1 )  \" \" \" \"  \"*\" \" \"  \"*\" \"*\"  \" \" \"*\" \" \"  \" \" \n",
       "5  ( 1 )  \" \" \"*\"  \"*\" \" \"  \"*\" \"*\"  \" \" \"*\" \" \"  \" \" \n",
       "6  ( 1 )  \" \" \"*\"  \"*\" \"*\"  \"*\" \"*\"  \" \" \"*\" \" \"  \" \" \n",
       "7  ( 1 )  \" \" \"*\"  \"*\" \"*\"  \"*\" \"*\"  \" \" \"*\" \"*\"  \" \" \n",
       "8  ( 1 )  \" \" \"*\"  \"*\" \"*\"  \"*\" \"*\"  \" \" \"*\" \"*\"  \"*\" \n",
       "9  ( 1 )  \" \" \"*\"  \"*\" \"*\"  \"*\" \"*\"  \"*\" \"*\" \"*\"  \"*\" \n",
       "10  ( 1 ) \"*\" \"*\"  \"*\" \"*\"  \"*\" \"*\"  \"*\" \"*\" \"*\"  \"*\" "
      ]
     },
     "metadata": {},
     "output_type": "display_data"
    }
   ],
   "source": [
    "summary(Slm)"
   ]
  },
  {
   "cell_type": "markdown",
   "metadata": {},
   "source": [
    "10개의 행 각각이 변수 개수가 1 ~ 10개일 때 BIC값이 가장 작은 변수의 조합을 나타낸다. \n",
    "\n",
    "따라서, 우리는 이들 중 통계량이 가장 작게 나온 것을 최종 선택하면 된다."
   ]
  },
  {
   "cell_type": "code",
   "execution_count": 10,
   "metadata": {},
   "outputs": [
    {
     "data": {
      "text/html": [
       "<style>\n",
       ".list-inline {list-style: none; margin:0; padding: 0}\n",
       ".list-inline>li {display: inline-block}\n",
       ".list-inline>li:not(:last-child)::after {content: \"\\00b7\"; padding: 0 .5ex}\n",
       "</style>\n",
       "<ol class=list-inline><li>-37.7946153185172</li><li>-46.348243336331</li><li>-46.7732016358928</li><li>-45.099468000674</li><li>-42.9871333658026</li><li>-40.2266298608964</li><li>-37.0962985327756</li><li>-33.7785850465411</li><li>-30.3710226982818</li><li>-26.9226107507162</li></ol>\n"
      ],
      "text/latex": [
       "\\begin{enumerate*}\n",
       "\\item -37.7946153185172\n",
       "\\item -46.348243336331\n",
       "\\item -46.7732016358928\n",
       "\\item -45.099468000674\n",
       "\\item -42.9871333658026\n",
       "\\item -40.2266298608964\n",
       "\\item -37.0962985327756\n",
       "\\item -33.7785850465411\n",
       "\\item -30.3710226982818\n",
       "\\item -26.9226107507162\n",
       "\\end{enumerate*}\n"
      ],
      "text/markdown": [
       "1. -37.7946153185172\n",
       "2. -46.348243336331\n",
       "3. -46.7732016358928\n",
       "4. -45.099468000674\n",
       "5. -42.9871333658026\n",
       "6. -40.2266298608964\n",
       "7. -37.0962985327756\n",
       "8. -33.7785850465411\n",
       "9. -30.3710226982818\n",
       "10. -26.9226107507162\n",
       "\n",
       "\n"
      ],
      "text/plain": [
       " [1] -37.79462 -46.34824 -46.77320 -45.09947 -42.98713 -40.22663 -37.09630\n",
       " [8] -33.77859 -30.37102 -26.92261"
      ]
     },
     "metadata": {},
     "output_type": "display_data"
    }
   ],
   "source": [
    "# Step 3: 선택된 모델들의 BIC 값 확인하기\n",
    "BestBIC <- summary(Slm)$bic\n",
    "BestBIC"
   ]
  },
  {
   "cell_type": "code",
   "execution_count": 13,
   "metadata": {
    "scrolled": true
   },
   "outputs": [
    {
     "data": {
      "image/png": "[encoded data removed]",
      "text/plain": [
       "plot without title"
      ]
     },
     "metadata": {
      "image/png": {
       "height": 420,
       "width": 420
      },
      "text/plain": {
       "height": 420,
       "width": 420
      }
     },
     "output_type": "display_data"
    }
   ],
   "source": [
    "# Step 4: BIC값이 가장 작은 변수 찾기\n",
    "MinVal <- which.min(BestBIC)\n",
    "plot(BestBIC, type=\"b\")\n",
    "points(MinVal, BestBIC[MinVal], cex=2, col=\"red\", pch=20)"
   ]
  },
  {
   "cell_type": "markdown",
   "metadata": {},
   "source": [
    "wt, qsec, am을 변수로 갖는 변수 3개짜리 모델이 최적의 결과값을 주는 것을 확인했다. 이제 ```coef()```함수를 이용해 해당 모델의 회귀계수를 구해보자."
   ]
  },
  {
   "cell_type": "code",
   "execution_count": 14,
   "metadata": {},
   "outputs": [
    {
     "data": {
      "text/html": [
       "<style>\n",
       ".dl-inline {width: auto; margin:0; padding: 0}\n",
       ".dl-inline>dt, .dl-inline>dd {float: none; width: auto; display: inline-block}\n",
       ".dl-inline>dt::after {content: \":\\0020\"; padding-right: .5ex}\n",
       ".dl-inline>dt:not(:first-of-type) {padding-left: .5ex}\n",
       "</style><dl class=dl-inline><dt>(Intercept)</dt><dd>9.61778051456159</dd><dt>wt</dt><dd>-3.91650372494249</dd><dt>qsec</dt><dd>1.2258859715837</dd><dt>am</dt><dd>2.93583719188942</dd></dl>\n"
      ],
      "text/latex": [
       "\\begin{description*}\n",
       "\\item[(Intercept)] 9.61778051456159\n",
       "\\item[wt] -3.91650372494249\n",
       "\\item[qsec] 1.2258859715837\n",
       "\\item[am] 2.93583719188942\n",
       "\\end{description*}\n"
      ],
      "text/markdown": [
       "(Intercept)\n",
       ":   9.61778051456159wt\n",
       ":   -3.91650372494249qsec\n",
       ":   1.2258859715837am\n",
       ":   2.93583719188942\n",
       "\n"
      ],
      "text/plain": [
       "(Intercept)          wt        qsec          am \n",
       "   9.617781   -3.916504    1.225886    2.935837 "
      ]
     },
     "metadata": {},
     "output_type": "display_data"
    }
   ],
   "source": [
    "# Step 5: 최적의 모델에서의 회귀계수 구하기\n",
    "coef(Slm, 3)"
   ]
  },
  {
   "cell_type": "markdown",
   "metadata": {},
   "source": [
    "---\n",
    "## 3. 전진선택법으로 선택하기 - leaps 패키지 이용\n",
    "leaps 패키지의 ```regsubsets()``` 함수를 이용하되, 옵션을 method =  \"forward\"로 준다."
   ]
  },
  {
   "cell_type": "code",
   "execution_count": 16,
   "metadata": {},
   "outputs": [
    {
     "data": {
      "text/plain": [
       "Subset selection object\n",
       "Call: regsubsets.formula(mpg ~ ., data = DF, nvmax = 10, method = \"forward\")\n",
       "10 Variables  (and intercept)\n",
       "     Forced in Forced out\n",
       "cyl      FALSE      FALSE\n",
       "disp     FALSE      FALSE\n",
       "hp       FALSE      FALSE\n",
       "drat     FALSE      FALSE\n",
       "wt       FALSE      FALSE\n",
       "qsec     FALSE      FALSE\n",
       "vs       FALSE      FALSE\n",
       "am       FALSE      FALSE\n",
       "gear     FALSE      FALSE\n",
       "carb     FALSE      FALSE\n",
       "1 subsets of each size up to 10\n",
       "Selection Algorithm: forward\n",
       "          cyl disp hp  drat wt  qsec vs  am  gear carb\n",
       "1  ( 1 )  \" \" \" \"  \" \" \" \"  \"*\" \" \"  \" \" \" \" \" \"  \" \" \n",
       "2  ( 1 )  \"*\" \" \"  \" \" \" \"  \"*\" \" \"  \" \" \" \" \" \"  \" \" \n",
       "3  ( 1 )  \"*\" \" \"  \"*\" \" \"  \"*\" \" \"  \" \" \" \" \" \"  \" \" \n",
       "4  ( 1 )  \"*\" \" \"  \"*\" \" \"  \"*\" \" \"  \" \" \"*\" \" \"  \" \" \n",
       "5  ( 1 )  \"*\" \" \"  \"*\" \" \"  \"*\" \"*\"  \" \" \"*\" \" \"  \" \" \n",
       "6  ( 1 )  \"*\" \"*\"  \"*\" \" \"  \"*\" \"*\"  \" \" \"*\" \" \"  \" \" \n",
       "7  ( 1 )  \"*\" \"*\"  \"*\" \"*\"  \"*\" \"*\"  \" \" \"*\" \" \"  \" \" \n",
       "8  ( 1 )  \"*\" \"*\"  \"*\" \"*\"  \"*\" \"*\"  \" \" \"*\" \"*\"  \" \" \n",
       "9  ( 1 )  \"*\" \"*\"  \"*\" \"*\"  \"*\" \"*\"  \" \" \"*\" \"*\"  \"*\" \n",
       "10  ( 1 ) \"*\" \"*\"  \"*\" \"*\"  \"*\" \"*\"  \"*\" \"*\" \"*\"  \"*\" "
      ]
     },
     "metadata": {},
     "output_type": "display_data"
    }
   ],
   "source": [
    "# Step 1: regsubsets() 함수 이용하여 변수선택하기\n",
    "library(leaps)\n",
    "\n",
    "Slm <- regsubsets(mpg ~ ., data=DF, nvmax=10, method=\"forward\")\n",
    "summary(Slm)"
   ]
  },
  {
   "cell_type": "markdown",
   "metadata": {},
   "source": [
    "전진선택법답게 다음 단계로 넘어갈 때 그전 단계에서 선택되었던 변수가 고정되어 하나씩 추가됨을 알 수 있다."
   ]
  },
  {
   "cell_type": "code",
   "execution_count": 18,
   "metadata": {},
   "outputs": [
    {
     "data": {
      "image/png": "[encoded data removed]",
      "text/plain": [
       "plot without title"
      ]
     },
     "metadata": {
      "image/png": {
       "height": 420,
       "width": 420
      },
      "text/plain": {
       "height": 420,
       "width": 420
      }
     },
     "output_type": "display_data"
    }
   ],
   "source": [
    "# Step 2: BIC값 확인하기\n",
    "ForwardBic <- summary(Slm)$bic\n",
    "MinVal <- which.min(ForwardBic)\n",
    "plot(ForwardBic, type=\"b\")\n",
    "points(MinVal, ForwardBic[MinVal], cex=2, col=\"red\", pch=20)"
   ]
  },
  {
   "cell_type": "markdown",
   "metadata": {},
   "source": [
    ", qsec, am을 변수로 갖는 "
   ]
  },
  {
   "cell_type": "code",
   "execution_count": 19,
   "metadata": {},
   "outputs": [
    {
     "data": {
      "text/html": [
       "<style>\n",
       ".dl-inline {width: auto; margin:0; padding: 0}\n",
       ".dl-inline>dt, .dl-inline>dd {float: none; width: auto; display: inline-block}\n",
       ".dl-inline>dt::after {content: \":\\0020\"; padding-right: .5ex}\n",
       ".dl-inline>dt:not(:first-of-type) {padding-left: .5ex}\n",
       "</style><dl class=dl-inline><dt>(Intercept)</dt><dd>39.686261480253</dd><dt>cyl</dt><dd>-1.5077949682598</dd><dt>wt</dt><dd>-3.19097213898375</dd></dl>\n"
      ],
      "text/latex": [
       "\\begin{description*}\n",
       "\\item[(Intercept)] 39.686261480253\n",
       "\\item[cyl] -1.5077949682598\n",
       "\\item[wt] -3.19097213898375\n",
       "\\end{description*}\n"
      ],
      "text/markdown": [
       "(Intercept)\n",
       ":   39.686261480253cyl\n",
       ":   -1.5077949682598wt\n",
       ":   -3.19097213898375\n",
       "\n"
      ],
      "text/plain": [
       "(Intercept)         cyl          wt \n",
       "  39.686261   -1.507795   -3.190972 "
      ]
     },
     "metadata": {},
     "output_type": "display_data"
    }
   ],
   "source": [
    "# Step 3: 최적의 모델 구현하기\n",
    "coef(Slm, 2)"
   ]
  },
  {
   "cell_type": "markdown",
   "metadata": {},
   "source": [
    "---\n",
    "## 3. 전진선택법으로 선택하기 - leaps 패키지 이용\n",
    "leaps 패키지의 ```regsubsets()``` 함수를 이용하되, 옵션을 method =  \"backward\"로 준다."
   ]
  },
  {
   "cell_type": "code",
   "execution_count": 23,
   "metadata": {
    "scrolled": true
   },
   "outputs": [
    {
     "data": {
      "text/plain": [
       "Subset selection object\n",
       "Call: regsubsets.formula(mpg ~ ., data = DF, nvmax = 10, method = \"backward\")\n",
       "10 Variables  (and intercept)\n",
       "     Forced in Forced out\n",
       "cyl      FALSE      FALSE\n",
       "disp     FALSE      FALSE\n",
       "hp       FALSE      FALSE\n",
       "drat     FALSE      FALSE\n",
       "wt       FALSE      FALSE\n",
       "qsec     FALSE      FALSE\n",
       "vs       FALSE      FALSE\n",
       "am       FALSE      FALSE\n",
       "gear     FALSE      FALSE\n",
       "carb     FALSE      FALSE\n",
       "1 subsets of each size up to 10\n",
       "Selection Algorithm: backward\n",
       "          cyl disp hp  drat wt  qsec vs  am  gear carb\n",
       "1  ( 1 )  \" \" \" \"  \" \" \" \"  \"*\" \" \"  \" \" \" \" \" \"  \" \" \n",
       "2  ( 1 )  \" \" \" \"  \" \" \" \"  \"*\" \"*\"  \" \" \" \" \" \"  \" \" \n",
       "3  ( 1 )  \" \" \" \"  \" \" \" \"  \"*\" \"*\"  \" \" \"*\" \" \"  \" \" \n",
       "4  ( 1 )  \" \" \" \"  \"*\" \" \"  \"*\" \"*\"  \" \" \"*\" \" \"  \" \" \n",
       "5  ( 1 )  \" \" \"*\"  \"*\" \" \"  \"*\" \"*\"  \" \" \"*\" \" \"  \" \" \n",
       "6  ( 1 )  \" \" \"*\"  \"*\" \"*\"  \"*\" \"*\"  \" \" \"*\" \" \"  \" \" \n",
       "7  ( 1 )  \" \" \"*\"  \"*\" \"*\"  \"*\" \"*\"  \" \" \"*\" \"*\"  \" \" \n",
       "8  ( 1 )  \" \" \"*\"  \"*\" \"*\"  \"*\" \"*\"  \" \" \"*\" \"*\"  \"*\" \n",
       "9  ( 1 )  \" \" \"*\"  \"*\" \"*\"  \"*\" \"*\"  \"*\" \"*\" \"*\"  \"*\" \n",
       "10  ( 1 ) \"*\" \"*\"  \"*\" \"*\"  \"*\" \"*\"  \"*\" \"*\" \"*\"  \"*\" "
      ]
     },
     "metadata": {},
     "output_type": "display_data"
    }
   ],
   "source": [
    "# Step 1: regsubsets() 함수 이용하여 변수선택하기\n",
    "library(leaps)\n",
    "\n",
    "Slm <- regsubsets(mpg ~ ., data=DF, nvmax=10, method=\"backward\")\n",
    "summary(Slm)"
   ]
  },
  {
   "cell_type": "markdown",
   "metadata": {},
   "source": [
    "후진선택법답게 다음 단계로 넘어갈 때 그전 단계에서 선택되었던 변수가 하나씩 제거됨을 알 수 있다."
   ]
  },
  {
   "cell_type": "code",
   "execution_count": 24,
   "metadata": {
    "scrolled": true
   },
   "outputs": [
    {
     "data": {
      "image/png": "[encoded data removed]",
      "text/plain": [
       "plot without title"
      ]
     },
     "metadata": {
      "image/png": {
       "height": 420,
       "width": 420
      },
      "text/plain": {
       "height": 420,
       "width": 420
      }
     },
     "output_type": "display_data"
    }
   ],
   "source": [
    "# Step 2: BIC값 확인하기\n",
    "BackwardBic <- summary(Slm)$bic\n",
    "MinVal <- which.min(BackwardBic)\n",
    "plot(BackwardBic, type=\"b\")\n",
    "points(MinVal, BackwardBic[MinVal], cex=2, col=\"red\", pch=20)"
   ]
  },
  {
   "cell_type": "code",
   "execution_count": 25,
   "metadata": {},
   "outputs": [
    {
     "data": {
      "text/html": [
       "<style>\n",
       ".dl-inline {width: auto; margin:0; padding: 0}\n",
       ".dl-inline>dt, .dl-inline>dd {float: none; width: auto; display: inline-block}\n",
       ".dl-inline>dt::after {content: \":\\0020\"; padding-right: .5ex}\n",
       ".dl-inline>dt:not(:first-of-type) {padding-left: .5ex}\n",
       "</style><dl class=dl-inline><dt>(Intercept)</dt><dd>9.61778051456161</dd><dt>wt</dt><dd>-3.91650372494249</dd><dt>qsec</dt><dd>1.2258859715837</dd><dt>am</dt><dd>2.93583719188942</dd></dl>\n"
      ],
      "text/latex": [
       "\\begin{description*}\n",
       "\\item[(Intercept)] 9.61778051456161\n",
       "\\item[wt] -3.91650372494249\n",
       "\\item[qsec] 1.2258859715837\n",
       "\\item[am] 2.93583719188942\n",
       "\\end{description*}\n"
      ],
      "text/markdown": [
       "(Intercept)\n",
       ":   9.61778051456161wt\n",
       ":   -3.91650372494249qsec\n",
       ":   1.2258859715837am\n",
       ":   2.93583719188942\n",
       "\n"
      ],
      "text/plain": [
       "(Intercept)          wt        qsec          am \n",
       "   9.617781   -3.916504    1.225886    2.935837 "
      ]
     },
     "metadata": {},
     "output_type": "display_data"
    }
   ],
   "source": [
    "# Step 3: 최적의 모델 구현하기\n",
    "coef(Slm, 3)"
   ]
  }
 ],
 "metadata": {
  "kernelspec": {
   "display_name": "R",
   "language": "R",
   "name": "ir"
  },
  "language_info": {
   "codemirror_mode": "r",
   "file_extension": ".r",
   "mimetype": "text/x-r-source",
   "name": "R",
   "pygments_lexer": "r",
   "version": "4.0.0"
  }
 },
 "nbformat": 4,
 "nbformat_minor": 4
}
