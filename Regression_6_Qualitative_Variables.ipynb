{
 "cells": [
  {
   "cell_type": "markdown",
   "metadata": {},
   "source": [
    "# Qualitative Variables (질적 변수)\n",
    "\n",
    "## Contents\n",
    "1. 질적 변수를 더미화하고 회귀모델에 적합하기\n",
    "2.  mtcars의 질적 변수 회귀모델 구하기\n",
    "3. 질적 변수를 더미화시키지 않고 회귀모델에 적합하기\n",
    "---\n",
    "## 1. 질적 변수를 더미화하고 회귀모델에 적합하기\n",
    "성별과 같이 문자열로 들어온 데이터를 더미화하고 이를 회귀모델에 넣어 그 결과를 해석해보자.\n",
    "\n",
    "더미변수는 'class 개수 - 1'개를 추가하고 1 또는 0으로 코딩한다."
   ]
  },
  {
   "cell_type": "code",
   "execution_count": 1,
   "metadata": {},
   "outputs": [
    {
     "data": {
      "text/html": [
       "<table>\n",
       "<caption>A data.frame: 5 × 3</caption>\n",
       "<thead>\n",
       "\t<tr><th></th><th scope=col>바느질소요시간</th><th scope=col>성별</th><th scope=col>나이</th></tr>\n",
       "\t<tr><th></th><th scope=col>&lt;dbl&gt;</th><th scope=col>&lt;chr&gt;</th><th scope=col>&lt;int&gt;</th></tr>\n",
       "</thead>\n",
       "<tbody>\n",
       "\t<tr><th scope=row>1</th><td>182.5</td><td>남자</td><td>34</td></tr>\n",
       "\t<tr><th scope=row>2</th><td>185.3</td><td>남자</td><td>21</td></tr>\n",
       "\t<tr><th scope=row>3</th><td>163.0</td><td>남자</td><td>31</td></tr>\n",
       "\t<tr><th scope=row>4</th><td>203.5</td><td>남자</td><td>22</td></tr>\n",
       "\t<tr><th scope=row>5</th><td>194.5</td><td>남자</td><td>32</td></tr>\n",
       "</tbody>\n",
       "</table>\n"
      ],
      "text/latex": [
       "A data.frame: 5 × 3\n",
       "\\begin{tabular}{r|lll}\n",
       "  & 바느질소요시간 & 성별 & 나이\\\\\n",
       "  & <dbl> & <chr> & <int>\\\\\n",
       "\\hline\n",
       "\t1 & 182.5 & 남자 & 34\\\\\n",
       "\t2 & 185.3 & 남자 & 21\\\\\n",
       "\t3 & 163.0 & 남자 & 31\\\\\n",
       "\t4 & 203.5 & 남자 & 22\\\\\n",
       "\t5 & 194.5 & 남자 & 32\\\\\n",
       "\\end{tabular}\n"
      ],
      "text/markdown": [
       "\n",
       "A data.frame: 5 × 3\n",
       "\n",
       "| <!--/--> | 바느질소요시간 &lt;dbl&gt; | 성별 &lt;chr&gt; | 나이 &lt;int&gt; |\n",
       "|---|---|---|---|\n",
       "| 1 | 182.5 | 남자 | 34 |\n",
       "| 2 | 185.3 | 남자 | 21 |\n",
       "| 3 | 163.0 | 남자 | 31 |\n",
       "| 4 | 203.5 | 남자 | 22 |\n",
       "| 5 | 194.5 | 남자 | 32 |\n",
       "\n"
      ],
      "text/plain": [
       "  바느질소요시간 성별 나이\n",
       "1 182.5          남자 34  \n",
       "2 185.3          남자 21  \n",
       "3 163.0          남자 31  \n",
       "4 203.5          남자 22  \n",
       "5 194.5          남자 32  "
      ]
     },
     "metadata": {},
     "output_type": "display_data"
    },
    {
     "data": {
      "text/plain": [
       " 바느질소요시간      성별                나이      \n",
       " Min.   : 83.4   Length:20          Min.   :21.00  \n",
       " 1st Qu.:114.8   Class :character   1st Qu.:31.00  \n",
       " Median :139.6   Mode  :character   Median :34.50  \n",
       " Mean   :143.9                      Mean   :35.05  \n",
       " 3rd Qu.:183.2                      3rd Qu.:40.00  \n",
       " Max.   :203.5                      Max.   :47.00  "
      ]
     },
     "metadata": {},
     "output_type": "display_data"
    },
    {
     "name": "stdout",
     "output_type": "stream",
     "text": [
      "'data.frame':\t20 obs. of  3 variables:\n",
      " $ 바느질소요시간: num  182 185 163 204 194 ...\n",
      " $ 성별          : chr  \"남자\" \"남자\" \"남자\" \"남자\" ...\n",
      " $ 나이          : int  34 21 31 22 32 38 40 42 31 47 ...\n"
     ]
    }
   ],
   "source": [
    "# Step 1: 데이터 불러오기\n",
    "DF <- read.csv(\"./data/example_sewing.csv\")\n",
    "head(DF, 5)\n",
    "summary(DF)\n",
    "str(DF)"
   ]
  },
  {
   "cell_type": "code",
   "execution_count": null,
   "metadata": {},
   "outputs": [],
   "source": [
    "# Step 2: 더미화하기\n",
    "#DF$성별 <- as.factor(DF$성별)\n",
    "DF$성별 <- ifelse(DF$성별 == \"남자\", 0, 1)"
   ]
  },
  {
   "cell_type": "markdown",
   "metadata": {},
   "source": [
    "cf) R에서 명목형 변수 / 순서형 변수 만들기\n",
    "* 명목형 변수 : ```as.factor(벡터)```, ```factor(벡터, levels=벡터)```\n",
    "* 순서형 변수 : ```as.factor(벡터, order=T)```, ```factor(벡터, levels=벡터, order=T)```"
   ]
  },
  {
   "cell_type": "markdown",
   "metadata": {},
   "source": [
    "```ifelse()```함수를 이용해서 남자인 경우 0을, 여자인 경우 1을 지정해줬다. 이제 성별변수를 추가한 회귀모델을 구해보자."
   ]
  },
  {
   "cell_type": "code",
   "execution_count": 2,
   "metadata": {},
   "outputs": [
    {
     "data": {
      "text/plain": [
       "\n",
       "Call:\n",
       "lm(formula = 바느질소요시간 ~ 성별 + 나이, data = DF)\n",
       "\n",
       "Coefficients:\n",
       "(Intercept)     성별여자         나이  \n",
       "   198.7339     -48.9540      -0.8664  \n"
      ]
     },
     "metadata": {},
     "output_type": "display_data"
    },
    {
     "data": {
      "text/plain": [
       "\n",
       "Call:\n",
       "lm(formula = 바느질소요시간 ~ 성별 + 나이, data = DF)\n",
       "\n",
       "Residuals:\n",
       "    Min      1Q  Median      3Q     Max \n",
       "-56.611 -19.647   7.768  22.766  33.941 \n",
       "\n",
       "Coefficients:\n",
       "            Estimate Std. Error t value Pr(>|t|)    \n",
       "(Intercept) 198.7339    32.0447   6.202 9.66e-06 ***\n",
       "성별여자    -48.9540    12.4182  -3.942  0.00105 ** \n",
       "나이         -0.8664     0.9130  -0.949  0.35596    \n",
       "---\n",
       "Signif. codes:  0 '***' 0.001 '**' 0.01 '*' 0.05 '.' 0.1 ' ' 1\n",
       "\n",
       "Residual standard error: 27.29 on 17 degrees of freedom\n",
       "Multiple R-squared:  0.5203,\tAdjusted R-squared:  0.4639 \n",
       "F-statistic: 9.219 on 2 and 17 DF,  p-value: 0.001942\n"
      ]
     },
     "metadata": {},
     "output_type": "display_data"
    }
   ],
   "source": [
    "# Step 3: 회귀모델 구하기\n",
    "Lm <- lm(바느질소요시간 ~ 성별 + 나이, data=DF)\n",
    "Lm\n",
    "summary(Lm)"
   ]
  },
  {
   "cell_type": "markdown",
   "metadata": {},
   "source": [
    "성별 변수의 회귀계수값인 -48.9540은 \"성별이 0에서 1로 증가할 시, 즉, 남자가 아니라 여자라면 바느질 속도가 48.9540만큼 감소할 것이다\" 라고 해석할 수 있다. "
   ]
  },
  {
   "cell_type": "markdown",
   "metadata": {},
   "source": [
    "---\n",
    "## 2. mtcars의 질적 변수 회귀모델 구하기\n",
    "mtcars에는 transmission 방식에 따라 automatic은 0, manual은 1 값을 갖는 am이라는 질적 변수가 포함되어 있었다.\n",
    "전체 변수를 넣은 회귀모델에서 am 변수의 영향을 해석해보자."
   ]
  },
  {
   "cell_type": "code",
   "execution_count": null,
   "metadata": {
    "scrolled": false
   },
   "outputs": [],
   "source": [
    "DF <- mtcars\n",
    "Lm <- lm(mpg ~ ., data=DF)\n",
    "Lm"
   ]
  },
  {
   "cell_type": "markdown",
   "metadata": {},
   "source": [
    "다른 변수를 고정할 때, automatic에서 manual이 되면 연비가 2.52023 증가함을 알 수 있다.\n",
    "\n",
    "한편, 이 결과는 am만을 변수로 갖는 회귀모델에 fitting한 결과와 다를 수 있다. 왜일까?"
   ]
  },
  {
   "cell_type": "code",
   "execution_count": null,
   "metadata": {},
   "outputs": [],
   "source": [
    "Lm2 <- lm(mpg ~ am, data=DF)\n",
    "Lm2"
   ]
  },
  {
   "cell_type": "markdown",
   "metadata": {},
   "source": [
    "---\n",
    "## 3. 질적 변수를 더미화시키지 않고 회귀모델에 적합하기\n",
    "R의 car 패키지에 내장된 Vocab 데이터셋을 이용해보자."
   ]
  },
  {
   "cell_type": "code",
   "execution_count": null,
   "metadata": {
    "scrolled": true
   },
   "outputs": [],
   "source": [
    "# Step 1: 데이터셋 불러오기\n",
    "#install.packages(\"car\")\n",
    "library(\"car\")"
   ]
  },
  {
   "cell_type": "code",
   "execution_count": null,
   "metadata": {},
   "outputs": [],
   "source": [
    "# Step 2: Vocab 데이터 살펴보기\n",
    "head(Vocab, 10)\n",
    "str(Vocab)"
   ]
  },
  {
   "cell_type": "markdown",
   "metadata": {},
   "source": [
    "총 21638 관측치에 변수 개수는 4개로 이루어져 있다. "
   ]
  },
  {
   "cell_type": "code",
   "execution_count": null,
   "metadata": {},
   "outputs": [],
   "source": [
    "# Step 3: 데이터 요약해서 보기\n",
    "summary(Vocab)"
   ]
  },
  {
   "cell_type": "markdown",
   "metadata": {},
   "source": [
    "성별이 질적 변수로 들어있는 것을 확인할 수 있다.\n",
    "\n",
    "* 종속변수: vocabulary\n",
    "* 독립변수: sex, education\n",
    "\n",
    "앞서 본 예제와 같이 성별을 0과 1로 더미화시키지 않고 그대로 ```lm()```함수에 넣어보자."
   ]
  },
  {
   "cell_type": "code",
   "execution_count": null,
   "metadata": {
    "scrolled": true
   },
   "outputs": [],
   "source": [
    "# Step 4: 다중회귀모델링\n",
    "Lm <- lm(vocabulary ~ sex + education, data=Vocab)\n",
    "Lm"
   ]
  },
  {
   "cell_type": "markdown",
   "metadata": {},
   "source": [
    "level 중 하나를 기준으로 잡고 회귀계수이름에 명시해준다. 이 예제에서 회귀계수의 의미는 여자가 아니라 남자이면 0.1687만큼 단어시험점수가 낮아지는 것이다."
   ]
  }
 ],
 "metadata": {
  "kernelspec": {
   "display_name": "R",
   "language": "R",
   "name": "ir"
  },
  "language_info": {
   "codemirror_mode": "r",
   "file_extension": ".r",
   "mimetype": "text/x-r-source",
   "name": "R",
   "pygments_lexer": "r",
   "version": "4.0.0"
  }
 },
 "nbformat": 4,
 "nbformat_minor": 4
}
